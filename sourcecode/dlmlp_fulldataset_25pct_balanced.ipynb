{
 "cells": [
  {
   "cell_type": "code",
   "execution_count": 44,
   "metadata": {},
   "outputs": [],
   "source": [
    "from numpy import loadtxt\n",
    "from tensorflow.keras.models import Sequential\n",
    "from tensorflow.keras.layers import Dense\n",
    "import numpy as np\n",
    "import matplotlib.pyplot as plt\n",
    "import matplotlib.image as mpimg\n",
    "import pandas as pd\n",
    "from niipreprocess10 import  niipreprocess as npp\n",
    "from sklearn.metrics import classification_report, confusion_matrix\n",
    "import sklearn.metrics as metrics\n",
    "import matplotlib.pyplot as plt\n",
    "from sklearn.utils import resample\n",
    "#from pandas_profiling import ProfileReport\n",
    "import os\n",
    "import glob\n",
    "import warnings\n",
    "warnings.filterwarnings(\"ignore\")"
   ]
  },
  {
   "cell_type": "code",
   "execution_count": 64,
   "metadata": {},
   "outputs": [],
   "source": [
    "import pandas as pd\n",
    "import glob\n",
    "files = glob.glob(\"C:/Users/c0028603/OneDrive - Sheffield Hallam University/05. Dissertation/BRaTS Dataset/BraTSReg_Training_Data_v2_csv/*.csv\")\n",
    "\n",
    "df = pd.DataFrame()\n",
    "for index,f in enumerate(files):\n",
    "    if index <=279:\n",
    "        csv = pd.read_csv(f)\n",
    "        df = pd.concat([df,csv])"
   ]
  },
  {
   "cell_type": "code",
   "execution_count": 65,
   "metadata": {},
   "outputs": [
    {
     "name": "stdout",
     "output_type": "stream",
     "text": [
      "0    424891365\n",
      "1         2504\n",
      "Name: istumor, dtype: int64\n"
     ]
    }
   ],
   "source": [
    "#a = df.Z.unique()\n",
    "#print(sorted(a))\n",
    "print(df['istumor'].value_counts())\n",
    "#df.to_csv('C:/Users/c0028603/OneDrive - Sheffield Hallam University/05. Dissertation/BRaTS Dataset/BraTSReg_Training_Data_v2_csv_Gigantic/BraTSReg_t1ce.nii.gz_values.csv' , index=False)"
   ]
  },
  {
   "cell_type": "code",
   "execution_count": 66,
   "metadata": {},
   "outputs": [],
   "source": [
    "b_dataset = df\n",
    "#df1 = df[[df.query('istumor == 1')]]"
   ]
  },
  {
   "cell_type": "code",
   "execution_count": 67,
   "metadata": {},
   "outputs": [
    {
     "data": {
      "text/plain": [
       "0    424891365\n",
       "1         2504\n",
       "Name: istumor, dtype: int64"
      ]
     },
     "execution_count": 67,
     "metadata": {},
     "output_type": "execute_result"
    }
   ],
   "source": [
    "#b_dataset.NiiFileName.unique()\n",
    "b_dataset['istumor'].value_counts()\n"
   ]
  },
  {
   "cell_type": "code",
   "execution_count": 49,
   "metadata": {},
   "outputs": [
    {
     "name": "stdout",
     "output_type": "stream",
     "text": [
      "117124018\n"
     ]
    }
   ],
   "source": [
    "#test_dataset['istumor'].value_counts().plot.bar()\n",
    "\n",
    "#create two different dataframe of majority and minority class \n",
    "df_majority = b_dataset[(b_dataset['istumor']==0)] \n",
    "df_minority = b_dataset[(b_dataset['istumor']==1)] \n",
    "print(len(df_majority))\n",
    "# upsample minority class\n",
    "df_minority_upsampled = resample(df_minority, \n",
    "                                 replace=True,    # sample with replacement\n",
    "                                 n_samples = 50000000,## len(df_majority), # to match majority class\n",
    "                                 random_state=42)  # reproducible results\n",
    "# Combine majority class with upsampled minority class\n",
    "df_upsampled = pd.concat([df_minority_upsampled, df_majority])"
   ]
  },
  {
   "cell_type": "code",
   "execution_count": 50,
   "metadata": {},
   "outputs": [
    {
     "name": "stdout",
     "output_type": "stream",
     "text": [
      "coutn of class 1    117124018\n",
      "0    117124018\n",
      "Name: istumor, dtype: int64\n"
     ]
    },
    {
     "data": {
      "text/plain": [
       "<AxesSubplot:>"
      ]
     },
     "execution_count": 50,
     "metadata": {},
     "output_type": "execute_result"
    },
    {
     "data": {
      "image/png": "[encoded data removed]",
      "text/plain": [
       "<Figure size 432x288 with 1 Axes>"
      ]
     },
     "metadata": {
      "needs_background": "light"
     },
     "output_type": "display_data"
    }
   ],
   "source": [
    "print(\"coutn of class {}\".format(df_upsampled['istumor'].value_counts()))\n",
    "b_dataset['istumor'].value_counts().plot.bar(color=['cyan','orange'])\n"
   ]
  },
  {
   "cell_type": "code",
   "execution_count": 51,
   "metadata": {},
   "outputs": [
    {
     "data": {
      "text/plain": [
       "<AxesSubplot:>"
      ]
     },
     "execution_count": 51,
     "metadata": {},
     "output_type": "execute_result"
    },
    {
     "data": {
      "image/png": "[encoded data removed]",
      "text/plain": [
       "<Figure size 432x288 with 1 Axes>"
      ]
     },
     "metadata": {
      "needs_background": "light"
     },
     "output_type": "display_data"
    }
   ],
   "source": [
    "df_upsampled['istumor'].value_counts().plot.bar(color=['cyan','orange'])"
   ]
  },
  {
   "cell_type": "code",
   "execution_count": 52,
   "metadata": {},
   "outputs": [],
   "source": [
    "test_dataset = pd.read_csv('C:/Users/c0028603/OneDrive - Sheffield Hallam University/05. Dissertation/BRaTS Dataset/BraTSReg_Training_Data_v2_csv/BraTSReg_005_00_0000_t1ce_values.csv')"
   ]
  },
  {
   "cell_type": "code",
   "execution_count": 53,
   "metadata": {},
   "outputs": [],
   "source": [
    "X = df_upsampled[['X','pY','VoxVal','Z']]\n",
    "y = df_upsampled[['istumor']]"
   ]
  },
  {
   "cell_type": "code",
   "execution_count": 54,
   "metadata": {},
   "outputs": [],
   "source": [
    "X_test = test_dataset[['X','pY','VoxVal','Z']]\n",
    "y_test = test_dataset[['istumor']]"
   ]
  },
  {
   "cell_type": "code",
   "execution_count": 55,
   "metadata": {},
   "outputs": [],
   "source": [
    "# define the keras model\n",
    "model = Sequential()\n",
    "model.add(Dense(12, input_shape=(4,),kernel_initializer = 'uniform', activation='relu'))\n",
    "model.add(Dense(8,kernel_initializer = 'uniform', activation='relu'))\n",
    "model.add(Dense(1,kernel_initializer = 'uniform', activation='sigmoid'))"
   ]
  },
  {
   "cell_type": "code",
   "execution_count": 56,
   "metadata": {},
   "outputs": [],
   "source": [
    "# compile the keras model\n",
    "model.compile(loss='binary_crossentropy', optimizer='adam', metrics=['accuracy'])"
   ]
  },
  {
   "cell_type": "code",
   "execution_count": 57,
   "metadata": {},
   "outputs": [
    {
     "name": "stdout",
     "output_type": "stream",
     "text": [
      "1639781\n"
     ]
    }
   ],
   "source": [
    "print(len(test_dataset))"
   ]
  },
  {
   "cell_type": "code",
   "execution_count": 59,
   "metadata": {},
   "outputs": [
    {
     "name": "stdout",
     "output_type": "stream",
     "text": [
      "Epoch 1/25\n",
      "375/375 [==============================] - 46s 78ms/step - loss: 0.3357 - accuracy: 0.8453 - val_loss: 0.4765 - val_accuracy: 0.8315\n",
      "Epoch 2/25\n",
      "375/375 [==============================] - 37s 81ms/step - loss: 0.3263 - accuracy: 0.8525 - val_loss: 0.4838 - val_accuracy: 0.8352\n",
      "Epoch 3/25\n",
      "375/375 [==============================] - 35s 76ms/step - loss: 0.3190 - accuracy: 0.8586 - val_loss: 0.4741 - val_accuracy: 0.8460\n",
      "Epoch 4/25\n",
      "375/375 [==============================] - 35s 77ms/step - loss: 0.3144 - accuracy: 0.8652 - val_loss: 0.4544 - val_accuracy: 0.8575\n",
      "Epoch 5/25\n",
      "375/375 [==============================] - 34s 75ms/step - loss: 0.3119 - accuracy: 0.8670 - val_loss: 0.4357 - val_accuracy: 0.8676\n",
      "Epoch 6/25\n",
      "375/375 [==============================] - 37s 83ms/step - loss: 0.3103 - accuracy: 0.8670 - val_loss: 0.4363 - val_accuracy: 0.8696\n",
      "Epoch 7/25\n",
      "375/375 [==============================] - 36s 80ms/step - loss: 0.3092 - accuracy: 0.8675 - val_loss: 0.4714 - val_accuracy: 0.8020\n",
      "Epoch 8/25\n",
      "375/375 [==============================] - 32s 72ms/step - loss: 0.3080 - accuracy: 0.8681 - val_loss: 0.4316 - val_accuracy: 0.8263\n",
      "Epoch 9/25\n",
      "375/375 [==============================] - 36s 79ms/step - loss: 0.3084 - accuracy: 0.8691 - val_loss: 0.4588 - val_accuracy: 0.8204\n",
      "Epoch 10/25\n",
      "375/375 [==============================] - 37s 83ms/step - loss: 0.3057 - accuracy: 0.8713 - val_loss: 0.4660 - val_accuracy: 0.8188\n",
      "Epoch 11/25\n",
      "375/375 [==============================] - 36s 80ms/step - loss: 0.3051 - accuracy: 0.8724 - val_loss: 0.4737 - val_accuracy: 0.8156\n",
      "Epoch 12/25\n",
      "375/375 [==============================] - 37s 80ms/step - loss: 0.3045 - accuracy: 0.8720 - val_loss: 0.4444 - val_accuracy: 0.8286\n",
      "Epoch 13/25\n",
      "375/375 [==============================] - 37s 82ms/step - loss: 0.3034 - accuracy: 0.8717 - val_loss: 0.4735 - val_accuracy: 0.8156\n",
      "Epoch 14/25\n",
      "375/375 [==============================] - 36s 76ms/step - loss: 0.3025 - accuracy: 0.8725 - val_loss: 0.4138 - val_accuracy: 0.8427\n",
      "Epoch 15/25\n",
      "375/375 [==============================] - 34s 73ms/step - loss: 0.3060 - accuracy: 0.8701 - val_loss: 0.4395 - val_accuracy: 0.8226\n",
      "Epoch 16/25\n",
      "375/375 [==============================] - 33s 72ms/step - loss: 0.3000 - accuracy: 0.8715 - val_loss: 0.4403 - val_accuracy: 0.8200\n",
      "Epoch 17/25\n",
      "375/375 [==============================] - 36s 80ms/step - loss: 0.3021 - accuracy: 0.8703 - val_loss: 0.4576 - val_accuracy: 0.8106\n",
      "Epoch 18/25\n",
      "375/375 [==============================] - 38s 84ms/step - loss: 0.3019 - accuracy: 0.8708 - val_loss: 0.4424 - val_accuracy: 0.8170\n",
      "Epoch 19/25\n",
      "375/375 [==============================] - 38s 83ms/step - loss: 0.2981 - accuracy: 0.8731 - val_loss: 0.4407 - val_accuracy: 0.8174\n",
      "Epoch 20/25\n",
      "375/375 [==============================] - 38s 82ms/step - loss: 0.3087 - accuracy: 0.8669 - val_loss: 0.4676 - val_accuracy: 0.8058\n",
      "Epoch 21/25\n",
      "375/375 [==============================] - 41s 93ms/step - loss: 0.2987 - accuracy: 0.8717 - val_loss: 0.4352 - val_accuracy: 0.8192\n",
      "Epoch 22/25\n",
      "375/375 [==============================] - 39s 87ms/step - loss: 0.2985 - accuracy: 0.8731 - val_loss: 0.3698 - val_accuracy: 0.8544\n",
      "Epoch 23/25\n",
      "375/375 [==============================] - 42s 92ms/step - loss: 0.3000 - accuracy: 0.8723 - val_loss: 0.4570 - val_accuracy: 0.8081\n",
      "Epoch 24/25\n",
      "375/375 [==============================] - 43s 94ms/step - loss: 0.2964 - accuracy: 0.8742 - val_loss: 0.4496 - val_accuracy: 0.8104\n",
      "Epoch 25/25\n",
      "375/375 [==============================] - 37s 80ms/step - loss: 0.3018 - accuracy: 0.8711 - val_loss: 0.4602 - val_accuracy: 0.8062\n"
     ]
    }
   ],
   "source": []
  },
  {
   "cell_type": "code",
   "execution_count": 60,
   "metadata": {},
   "outputs": [],
   "source": []
  },
  {
   "cell_type": "code",
   "execution_count": 68,
   "metadata": {},
   "outputs": [
    {
     "name": "stdout",
     "output_type": "stream",
     "text": [
      "424891365\n",
      "coutn of class 0    424891365\n",
      "1     50000000\n",
      "Name: istumor, dtype: int64\n",
      "Epoch 1/25\n",
      "760/760 [==============================] - 392s 381ms/step - loss: 0.3848 - accuracy: 0.8684 - val_loss: 0.2648 - val_accuracy: 0.9719\n",
      "Epoch 2/25\n",
      "760/760 [==============================] - 58s 76ms/step - loss: 0.3613 - accuracy: 0.8736 - val_loss: 0.2604 - val_accuracy: 0.9745\n",
      "Epoch 3/25\n",
      "760/760 [==============================] - 57s 76ms/step - loss: 0.3427 - accuracy: 0.8748 - val_loss: 0.2542 - val_accuracy: 0.9648\n",
      "Epoch 4/25\n",
      "760/760 [==============================] - 66s 78ms/step - loss: 0.3392 - accuracy: 0.8748 - val_loss: 0.2576 - val_accuracy: 0.9637\n",
      "Epoch 5/25\n",
      "760/760 [==============================] - 73s 83ms/step - loss: 0.3392 - accuracy: 0.8748 - val_loss: 0.2433 - val_accuracy: 0.9709\n",
      "Epoch 6/25\n",
      "760/760 [==============================] - 65s 73ms/step - loss: 0.3391 - accuracy: 0.8748 - val_loss: 0.2544 - val_accuracy: 0.9654\n",
      "Epoch 7/25\n",
      "760/760 [==============================] - 69s 74ms/step - loss: 0.3391 - accuracy: 0.8748 - val_loss: 0.2522 - val_accuracy: 0.9666\n",
      "Epoch 8/25\n",
      "760/760 [==============================] - 69s 75ms/step - loss: 0.3391 - accuracy: 0.8748 - val_loss: 0.2654 - val_accuracy: 0.9597\n",
      "Epoch 9/25\n",
      "760/760 [==============================] - 68s 74ms/step - loss: 0.3391 - accuracy: 0.8748 - val_loss: 0.2461 - val_accuracy: 0.9692\n",
      "Epoch 10/25\n",
      "760/760 [==============================] - 68s 74ms/step - loss: 0.3391 - accuracy: 0.8748 - val_loss: 0.2474 - val_accuracy: 0.9683\n",
      "Epoch 11/25\n",
      "760/760 [==============================] - 69s 74ms/step - loss: 0.3391 - accuracy: 0.8748 - val_loss: 0.2551 - val_accuracy: 0.9651\n",
      "Epoch 12/25\n",
      "760/760 [==============================] - 70s 76ms/step - loss: 0.3391 - accuracy: 0.8748 - val_loss: 0.2458 - val_accuracy: 0.9695\n",
      "Epoch 13/25\n",
      "760/760 [==============================] - 69s 74ms/step - loss: 0.3391 - accuracy: 0.8748 - val_loss: 0.2602 - val_accuracy: 0.9617\n",
      "Epoch 14/25\n",
      "760/760 [==============================] - 68s 74ms/step - loss: 0.3391 - accuracy: 0.8748 - val_loss: 0.2593 - val_accuracy: 0.9624\n",
      "Epoch 15/25\n",
      "760/760 [==============================] - 69s 74ms/step - loss: 0.3343 - accuracy: 0.8750 - val_loss: 0.2797 - val_accuracy: 0.9589\n",
      "Epoch 16/25\n",
      "760/760 [==============================] - 68s 74ms/step - loss: 0.3272 - accuracy: 0.8756 - val_loss: 0.2629 - val_accuracy: 0.9681\n",
      "Epoch 17/25\n",
      "760/760 [==============================] - 67s 72ms/step - loss: 0.3248 - accuracy: 0.8749 - val_loss: 0.2868 - val_accuracy: 0.9547\n",
      "Epoch 18/25\n",
      "760/760 [==============================] - 68s 73ms/step - loss: 0.3239 - accuracy: 0.8746 - val_loss: 0.2733 - val_accuracy: 0.9622\n",
      "Epoch 19/25\n",
      "760/760 [==============================] - 69s 74ms/step - loss: 0.3236 - accuracy: 0.8747 - val_loss: 0.2793 - val_accuracy: 0.9575\n",
      "Epoch 20/25\n",
      "760/760 [==============================] - 68s 73ms/step - loss: 0.3233 - accuracy: 0.8748 - val_loss: 0.2708 - val_accuracy: 0.9623\n",
      "Epoch 21/25\n",
      "760/760 [==============================] - 68s 74ms/step - loss: 0.3232 - accuracy: 0.8748 - val_loss: 0.2788 - val_accuracy: 0.9582\n",
      "Epoch 22/25\n",
      "760/760 [==============================] - 69s 73ms/step - loss: 0.3230 - accuracy: 0.8748 - val_loss: 0.2659 - val_accuracy: 0.9647\n",
      "Epoch 23/25\n",
      "760/760 [==============================] - 68s 73ms/step - loss: 0.3229 - accuracy: 0.8748 - val_loss: 0.2604 - val_accuracy: 0.9673\n",
      "Epoch 24/25\n",
      "760/760 [==============================] - 68s 73ms/step - loss: 0.3228 - accuracy: 0.8748 - val_loss: 0.2642 - val_accuracy: 0.9651\n",
      "Epoch 25/25\n",
      "760/760 [==============================] - 64s 68ms/step - loss: 0.3227 - accuracy: 0.8748 - val_loss: 0.2652 - val_accuracy: 0.9649\n"
     ]
    },
    {
     "data": {
      "image/png": "[encoded data removed]",
      "text/plain": [
       "<Figure size 432x288 with 1 Axes>"
      ]
     },
     "metadata": {
      "needs_background": "light"
     },
     "output_type": "display_data"
    },
    {
     "data": {
      "image/png": "[encoded data removed]",
      "text/plain": [
       "<Figure size 432x288 with 1 Axes>"
      ]
     },
     "metadata": {
      "needs_background": "light"
     },
     "output_type": "display_data"
    },
    {
     "name": "stdout",
     "output_type": "stream",
     "text": [
      "18996/18996 [==============================] - 107s 3ms/step - loss: 0.3112 - accuracy: 0.8927\n",
      "Accuracy: 89.27\n",
      "68/68 [==============================] - 5s 7ms/step\n",
      "              precision    recall  f1-score   support\n",
      "\n",
      "           0       1.00      0.98      0.99   1686825\n",
      "           1       0.00      0.38      0.00         8\n",
      "\n",
      "    accuracy                           0.98   1686833\n",
      "   macro avg       0.50      0.68      0.50   1686833\n",
      "weighted avg       1.00      0.98      0.99   1686833\n",
      "\n",
      "[[1656616   30209]\n",
      " [      5       3]]\n"
     ]
    },
    {
     "data": {
      "image/png": "[encoded data removed]",
      "text/plain": [
       "<Figure size 432x288 with 1 Axes>"
      ]
     },
     "metadata": {
      "needs_background": "light"
     },
     "output_type": "display_data"
    }
   ],
   "source": [
    "#test_dataset['istumor'].value_counts().plot.bar()\n",
    "\n",
    "#----------------\n",
    "#create two different dataframe of majority and minority class \n",
    "df_majority = b_dataset[(b_dataset['istumor']==0)] \n",
    "df_minority = b_dataset[(b_dataset['istumor']==1)] \n",
    "print(len(df_majority))\n",
    "# upsample minority class\n",
    "df_minority_upsampled = resample(df_minority, \n",
    "                                 replace=True,    # sample with replacement\n",
    "                                 n_samples = 50000000,## len(df_majority), # to match majority class\n",
    "                                 random_state=42)  # reproducible results\n",
    "# Combine majority class with upsampled minority class\n",
    "df_upsampled = pd.concat([df_minority_upsampled, df_majority])\n",
    "#--------------\n",
    "print(\"coutn of class {}\".format(df_upsampled['istumor'].value_counts()))\n",
    "b_dataset['istumor'].value_counts().plot.bar(color=['cyan','orange'])\n",
    "#----------------------\n",
    "#class balancing plot\n",
    "df_upsampled['istumor'].value_counts().plot.bar(color=['cyan','orange'])\n",
    "#----------------\n",
    "test_dataset = pd.read_csv('C:/Users/c0028603/OneDrive - Sheffield Hallam University/05. Dissertation/BRaTS Dataset/BraTSReg_Validation_Data_csv/BraTSReg_143_01_0102_t1ce_values.csv')\n",
    "#-----------------------\n",
    "X = df_upsampled[['X','pY','VoxVal','Z']]\n",
    "y = df_upsampled[['istumor']]\n",
    "\n",
    "X_test = test_dataset[['X','pY','VoxVal','Z']]\n",
    "y_test = test_dataset[['istumor']]\n",
    "\n",
    "#------------------\n",
    "# define the keras model\n",
    "model = Sequential()\n",
    "model.add(Dense(12, input_shape=(4,),kernel_initializer = 'uniform', activation='relu'))\n",
    "model.add(Dense(8,kernel_initializer = 'uniform', activation='relu'))\n",
    "model.add(Dense(1,kernel_initializer = 'uniform', activation='sigmoid'))\n",
    "#--------------------\n",
    "# compile the keras model\n",
    "model.compile(loss='binary_crossentropy', optimizer='adam', metrics=['accuracy'])\n",
    "#------------------\n",
    "# fit the keras model on the dataset\n",
    "epoch_history = model.fit(X, y, epochs=25, batch_size=500000,validation_split=0.2)\n",
    "#---------------\n",
    "#pickle the model run always with \n",
    "from keras.models import load_model\n",
    "\n",
    "model.save('dlmlpt1ce_25pctalanced.h5')\n",
    "#-----------------\n",
    "#all the rest of the code at one place\n",
    "# Get training and test loss histories\n",
    "training_loss = epoch_history.history['loss']\n",
    "test_loss = epoch_history.history['val_loss']\n",
    "\n",
    "# Create count of the number of epochs\n",
    "epoch_count = range(1, len(training_loss) + 1)\n",
    "\n",
    "# Visualize loss history\n",
    "plt.plot(epoch_count, training_loss, 'r--')\n",
    "plt.plot(epoch_count, test_loss, 'b-')\n",
    "plt.legend(['Training Loss', 'Test Loss'])\n",
    "plt.xlabel('Epoch')\n",
    "plt.ylabel('Loss')\n",
    "plt.show()\n",
    "# Get training and test accuracy histories\n",
    "training_accuracy = epoch_history.history['accuracy']\n",
    "test_accuracy = epoch_history.history['val_accuracy']\n",
    "\n",
    "# Create count of the number of epochs\n",
    "epoch_count = range(1, len(training_accuracy) + 1)\n",
    "\n",
    "# Visualize accuracy history\n",
    "plt.plot(epoch_count, training_accuracy, 'r--')\n",
    "plt.plot(epoch_count, test_accuracy, 'b-')\n",
    "plt.legend(['Training Accuracy', 'Test Accuracy'])\n",
    "plt.xlabel('Epoch')\n",
    "plt.ylabel('Accuracy')\n",
    "plt.show()\n",
    "# evaluate the keras model\n",
    "_, accuracy = model.evaluate(X, y,batch_size = 25000)\n",
    "print('Accuracy: %.2f' % (accuracy*100))\n",
    "\n",
    "predictions = model.predict(X_test,batch_size = 25000)\n",
    "test_dataset['istumor_Pred'] = predictions\n",
    "\n",
    "\n",
    "\n",
    "\n",
    "\n",
    "\n",
    "#precision \n",
    "\n",
    "print(classification_report(test_dataset['istumor'],test_dataset['istumor_Pred'].round()))\n",
    "print(confusion_matrix(test_dataset['istumor'], test_dataset['istumor_Pred'].round()))\n",
    "\n",
    "# calculate the fpr and tpr for all thresholds of the classification\n",
    "y_true = test_dataset['istumor'] # ground truth labels\n",
    "y_pred = test_dataset['istumor_Pred']# predicted probabilities generated by sklearn classifier\n",
    "fpr, tpr, threshold = metrics.roc_curve(y_true, y_pred)\n",
    "roc_auc = metrics.auc(fpr, tpr)\n",
    "\n",
    "# method I: plt\n",
    "\n",
    "plt.title('Receiver Operating Characteristic')\n",
    "plt.plot(fpr, tpr, 'b', label = 'AUC = %0.2f' % roc_auc)\n",
    "plt.legend(loc = 'lower right')\n",
    "plt.plot([0, 1], [0, 1],'r--')\n",
    "plt.xlim([0, 1])\n",
    "plt.ylim([0, 1])\n",
    "plt.ylabel('True Positive Rate')\n",
    "plt.xlabel('False Positive Rate')\n",
    "plt.show()"
   ]
  },
  {
   "cell_type": "code",
   "execution_count": 69,
   "metadata": {},
   "outputs": [
    {
     "name": "stdout",
     "output_type": "stream",
     "text": [
      "68/68 [==============================] - 0s 2ms/step\n",
      "              precision    recall  f1-score   support\n",
      "\n",
      "           0       1.00      0.98      0.99   1686825\n",
      "           1       0.00      0.38      0.00         8\n",
      "\n",
      "    accuracy                           0.98   1686833\n",
      "   macro avg       0.50      0.68      0.50   1686833\n",
      "weighted avg       1.00      0.98      0.99   1686833\n",
      "\n",
      "[[1656616   30209]\n",
      " [      5       3]]\n"
     ]
    },
    {
     "data": {
      "image/png": "[encoded data removed]",
      "text/plain": [
       "<Figure size 432x288 with 1 Axes>"
      ]
     },
     "metadata": {
      "needs_background": "light"
     },
     "output_type": "display_data"
    }
   ],
   "source": [
    "test_dataset = pd.read_csv('C:/Users/c0028603/OneDrive - Sheffield Hallam University/05. Dissertation/BRaTS Dataset/BraTSReg_Validation_Data_csv/BraTSReg_143_01_0102_t1ce_values.csv')\n",
    "\n",
    "predictions = model.predict(test_dataset[['X','pY','VoxVal','Z']],batch_size = 25000)\n",
    "test_dataset['istumor_Pred'] = predictions\n",
    "\n",
    "#precision \n",
    "\n",
    "print(classification_report(test_dataset['istumor'],test_dataset['istumor_Pred'].round()))\n",
    "print(confusion_matrix(test_dataset['istumor'], test_dataset['istumor_Pred'].round()))\n",
    "\n",
    "\n",
    "# calculate the fpr and tpr for all thresholds of the classification\n",
    "y_true = test_dataset['istumor'] # ground truth labels\n",
    "y_pred = test_dataset['istumor_Pred']# predicted probabilities generated by sklearn classifier\n",
    "fpr, tpr, threshold = metrics.roc_curve(y_true, y_pred)\n",
    "roc_auc = metrics.auc(fpr, tpr)\n",
    "\n",
    "# method I: plt\n",
    "\n",
    "plt.title('Receiver Operating Characteristic')\n",
    "plt.plot(fpr, tpr, 'b', label = 'AUC = %0.2f' % roc_auc)\n",
    "plt.legend(loc = 'lower right')\n",
    "plt.plot([0, 1], [0, 1],'r--')\n",
    "plt.xlim([0, 1])\n",
    "plt.ylim([0, 1])\n",
    "plt.ylabel('True Positive Rate')\n",
    "plt.xlabel('False Positive Rate')\n",
    "plt.show()"
   ]
  },
  {
   "cell_type": "code",
   "execution_count": 70,
   "metadata": {},
   "outputs": [
    {
     "data": {
      "text/html": [
       "<div>\n",
       "<style scoped>\n",
       "    .dataframe tbody tr th:only-of-type {\n",
       "        vertical-align: middle;\n",
       "    }\n",
       "\n",
       "    .dataframe tbody tr th {\n",
       "        vertical-align: top;\n",
       "    }\n",
       "\n",
       "    .dataframe thead th {\n",
       "        text-align: right;\n",
       "    }\n",
       "</style>\n",
       "<table border=\"1\" class=\"dataframe\">\n",
       "  <thead>\n",
       "    <tr style=\"text-align: right;\">\n",
       "      <th></th>\n",
       "      <th>Unnamed: 0</th>\n",
       "      <th>X</th>\n",
       "      <th>pY</th>\n",
       "      <th>VoxVal</th>\n",
       "      <th>Z</th>\n",
       "      <th>NiiFileName</th>\n",
       "      <th>LandmarksFileName</th>\n",
       "      <th>istumor</th>\n",
       "      <th>istumor_Pred</th>\n",
       "    </tr>\n",
       "  </thead>\n",
       "  <tbody>\n",
       "    <tr>\n",
       "      <th>414174</th>\n",
       "      <td>31578</td>\n",
       "      <td>138</td>\n",
       "      <td>131</td>\n",
       "      <td>5355.856445</td>\n",
       "      <td>52</td>\n",
       "      <td>BraTSReg_143_01_0102_t1ce.nii.gz</td>\n",
       "      <td>BraTSReg_143_01_0102_landmarks.csv</td>\n",
       "      <td>1</td>\n",
       "      <td>0.624588</td>\n",
       "    </tr>\n",
       "    <tr>\n",
       "      <th>425998</th>\n",
       "      <td>23373</td>\n",
       "      <td>93</td>\n",
       "      <td>97</td>\n",
       "      <td>5279.800293</td>\n",
       "      <td>53</td>\n",
       "      <td>BraTSReg_143_01_0102_t1ce.nii.gz</td>\n",
       "      <td>BraTSReg_143_01_0102_landmarks.csv</td>\n",
       "      <td>1</td>\n",
       "      <td>0.799730</td>\n",
       "    </tr>\n",
       "    <tr>\n",
       "      <th>447361</th>\n",
       "      <td>31764</td>\n",
       "      <td>84</td>\n",
       "      <td>132</td>\n",
       "      <td>1663.246338</td>\n",
       "      <td>54</td>\n",
       "      <td>BraTSReg_143_01_0102_t1ce.nii.gz</td>\n",
       "      <td>BraTSReg_143_01_0102_landmarks.csv</td>\n",
       "      <td>1</td>\n",
       "      <td>0.245115</td>\n",
       "    </tr>\n",
       "    <tr>\n",
       "      <th>658428</th>\n",
       "      <td>21987</td>\n",
       "      <td>147</td>\n",
       "      <td>91</td>\n",
       "      <td>4184.147461</td>\n",
       "      <td>66</td>\n",
       "      <td>BraTSReg_143_01_0102_t1ce.nii.gz</td>\n",
       "      <td>BraTSReg_143_01_0102_landmarks.csv</td>\n",
       "      <td>1</td>\n",
       "      <td>0.572815</td>\n",
       "    </tr>\n",
       "    <tr>\n",
       "      <th>679863</th>\n",
       "      <td>26490</td>\n",
       "      <td>90</td>\n",
       "      <td>110</td>\n",
       "      <td>2564.860840</td>\n",
       "      <td>67</td>\n",
       "      <td>BraTSReg_143_01_0102_t1ce.nii.gz</td>\n",
       "      <td>BraTSReg_143_01_0102_landmarks.csv</td>\n",
       "      <td>1</td>\n",
       "      <td>0.385821</td>\n",
       "    </tr>\n",
       "    <tr>\n",
       "      <th>738714</th>\n",
       "      <td>27491</td>\n",
       "      <td>131</td>\n",
       "      <td>114</td>\n",
       "      <td>2401.337402</td>\n",
       "      <td>70</td>\n",
       "      <td>BraTSReg_143_01_0102_t1ce.nii.gz</td>\n",
       "      <td>BraTSReg_143_01_0102_landmarks.csv</td>\n",
       "      <td>1</td>\n",
       "      <td>0.346488</td>\n",
       "    </tr>\n",
       "    <tr>\n",
       "      <th>818095</th>\n",
       "      <td>28924</td>\n",
       "      <td>124</td>\n",
       "      <td>120</td>\n",
       "      <td>3211.336182</td>\n",
       "      <td>74</td>\n",
       "      <td>BraTSReg_143_01_0102_t1ce.nii.gz</td>\n",
       "      <td>BraTSReg_143_01_0102_landmarks.csv</td>\n",
       "      <td>1</td>\n",
       "      <td>0.453437</td>\n",
       "    </tr>\n",
       "    <tr>\n",
       "      <th>894005</th>\n",
       "      <td>24375</td>\n",
       "      <td>135</td>\n",
       "      <td>101</td>\n",
       "      <td>2544.161133</td>\n",
       "      <td>78</td>\n",
       "      <td>BraTSReg_143_01_0102_t1ce.nii.gz</td>\n",
       "      <td>BraTSReg_143_01_0102_landmarks.csv</td>\n",
       "      <td>1</td>\n",
       "      <td>0.238379</td>\n",
       "    </tr>\n",
       "  </tbody>\n",
       "</table>\n",
       "</div>"
      ],
      "text/plain": [
       "        Unnamed: 0    X   pY       VoxVal   Z  \\\n",
       "414174       31578  138  131  5355.856445  52   \n",
       "425998       23373   93   97  5279.800293  53   \n",
       "447361       31764   84  132  1663.246338  54   \n",
       "658428       21987  147   91  4184.147461  66   \n",
       "679863       26490   90  110  2564.860840  67   \n",
       "738714       27491  131  114  2401.337402  70   \n",
       "818095       28924  124  120  3211.336182  74   \n",
       "894005       24375  135  101  2544.161133  78   \n",
       "\n",
       "                             NiiFileName                   LandmarksFileName  \\\n",
       "414174  BraTSReg_143_01_0102_t1ce.nii.gz  BraTSReg_143_01_0102_landmarks.csv   \n",
       "425998  BraTSReg_143_01_0102_t1ce.nii.gz  BraTSReg_143_01_0102_landmarks.csv   \n",
       "447361  BraTSReg_143_01_0102_t1ce.nii.gz  BraTSReg_143_01_0102_landmarks.csv   \n",
       "658428  BraTSReg_143_01_0102_t1ce.nii.gz  BraTSReg_143_01_0102_landmarks.csv   \n",
       "679863  BraTSReg_143_01_0102_t1ce.nii.gz  BraTSReg_143_01_0102_landmarks.csv   \n",
       "738714  BraTSReg_143_01_0102_t1ce.nii.gz  BraTSReg_143_01_0102_landmarks.csv   \n",
       "818095  BraTSReg_143_01_0102_t1ce.nii.gz  BraTSReg_143_01_0102_landmarks.csv   \n",
       "894005  BraTSReg_143_01_0102_t1ce.nii.gz  BraTSReg_143_01_0102_landmarks.csv   \n",
       "\n",
       "        istumor  istumor_Pred  \n",
       "414174        1      0.624588  \n",
       "425998        1      0.799730  \n",
       "447361        1      0.245115  \n",
       "658428        1      0.572815  \n",
       "679863        1      0.385821  \n",
       "738714        1      0.346488  \n",
       "818095        1      0.453437  \n",
       "894005        1      0.238379  "
      ]
     },
     "execution_count": 70,
     "metadata": {},
     "output_type": "execute_result"
    }
   ],
   "source": [
    "test_dataset.query('istumor_Pred >= 0.999999 | istumor == 1').sort_values(['istumor'],ascending=False)"
   ]
  },
  {
   "cell_type": "code",
   "execution_count": 40,
   "metadata": {},
   "outputs": [],
   "source": []
  }
 ],
 "metadata": {
  "kernelspec": {
   "display_name": "Python 3.9.7 ('base')",
   "language": "python",
   "name": "python3"
  },
  "language_info": {
   "codemirror_mode": {
    "name": "ipython",
    "version": 3
   },
   "file_extension": ".py",
   "mimetype": "text/x-python",
   "name": "python",
   "nbconvert_exporter": "python",
   "pygments_lexer": "ipython3",
   "version": "3.9.7"
  },
  "vscode": {
   "interpreter": {
    "hash": "1071b818c7c51f01a3eb89ab3b8f051905ca0bfdca59eb66396eef1707ef2352"
   }
  }
 },
 "nbformat": 4,
 "nbformat_minor": 2
}
