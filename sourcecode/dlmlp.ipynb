{
 "cells": [
  {
   "cell_type": "code",
   "execution_count": 1,
   "metadata": {},
   "outputs": [
    {
     "name": "stdout",
     "output_type": "stream",
     "text": [
      "2022-07-20 17:23:40.709545 v10.0\n"
     ]
    }
   ],
   "source": [
    "from numpy import loadtxt\n",
    "from tensorflow.keras.models import Sequential\n",
    "from tensorflow.keras.layers import Dense\n",
    "import numpy as np\n",
    "import matplotlib.pyplot as plt\n",
    "import matplotlib.image as mpimg\n",
    "import pandas as pd\n",
    "from niipreprocess10 import  niipreprocess as npp\n",
    "#from pandas_profiling import ProfileReport\n",
    "import os\n",
    "import glob\n",
    "import warnings\n",
    "warnings.filterwarnings(\"ignore\")"
   ]
  },
  {
   "cell_type": "code",
   "execution_count": 2,
   "metadata": {},
   "outputs": [],
   "source": [
    "import pandas as pd\n",
    "import glob\n",
    "files = glob.glob(\"C:/Drive/Dissertation/OneDrive_1_23-06-2022/BraTSReg_Training_Data_v2_csv/*.csv\")\n",
    "\n",
    "df = pd.DataFrame()\n",
    "for index,f in enumerate(files):\n",
    "    if index <=35:\n",
    "        csv = pd.read_csv(f)\n",
    "        df = pd.concat([df,csv])"
   ]
  },
  {
   "cell_type": "code",
   "execution_count": 3,
   "metadata": {},
   "outputs": [],
   "source": [
    "b_dataset = df\n",
    "#df1 = df[[df.query('istumor == 1')]]"
   ]
  },
  {
   "cell_type": "code",
   "execution_count": 4,
   "metadata": {},
   "outputs": [
    {
     "data": {
      "text/plain": [
       "0    56259211\n",
       "1         216\n",
       "Name: istumor, dtype: int64"
      ]
     },
     "execution_count": 4,
     "metadata": {},
     "output_type": "execute_result"
    }
   ],
   "source": [
    "#b_dataset.NiiFileName.unique()\n",
    "b_dataset['istumor'].value_counts()\n"
   ]
  },
  {
   "cell_type": "code",
   "execution_count": 5,
   "metadata": {},
   "outputs": [
    {
     "name": "stdout",
     "output_type": "stream",
     "text": [
      "56259211\n"
     ]
    }
   ],
   "source": [
    "#test_dataset['istumor'].value_counts().plot.bar()\n",
    "from sklearn.utils import resample\n",
    "#create two different dataframe of majority and minority class \n",
    "df_majority = b_dataset[(b_dataset['istumor']==0)] \n",
    "df_minority = b_dataset[(b_dataset['istumor']==1)] \n",
    "print(len(df_majority))\n",
    "# upsample minority class\n",
    "df_minority_upsampled = resample(df_minority, \n",
    "                                 replace=True,    # sample with replacement\n",
    "                                 n_samples= len(df_majority), # to match majority class\n",
    "                                 random_state=42)  # reproducible results\n",
    "# Combine majority class with upsampled minority class\n",
    "df_upsampled = pd.concat([df_minority_upsampled, df_majority])"
   ]
  },
  {
   "cell_type": "code",
   "execution_count": 6,
   "metadata": {},
   "outputs": [
    {
     "name": "stdout",
     "output_type": "stream",
     "text": [
      "coutn of class 1    56259211\n",
      "0    56259211\n",
      "Name: istumor, dtype: int64\n"
     ]
    },
    {
     "data": {
      "text/plain": [
       "<AxesSubplot:>"
      ]
     },
     "execution_count": 6,
     "metadata": {},
     "output_type": "execute_result"
    },
    {
     "data": {
      "image/png": "[encoded data removed]",
      "text/plain": [
       "<Figure size 432x288 with 1 Axes>"
      ]
     },
     "metadata": {
      "needs_background": "light"
     },
     "output_type": "display_data"
    }
   ],
   "source": [
    "print(\"coutn of class {}\".format(df_upsampled['istumor'].value_counts()))\n",
    "b_dataset['istumor'].value_counts().plot.bar(color=['cyan','orange'])\n"
   ]
  },
  {
   "cell_type": "code",
   "execution_count": 7,
   "metadata": {},
   "outputs": [
    {
     "data": {
      "text/plain": [
       "<AxesSubplot:>"
      ]
     },
     "execution_count": 7,
     "metadata": {},
     "output_type": "execute_result"
    },
    {
     "data": {
      "image/png": "[encoded data removed]",
      "text/plain": [
       "<Figure size 432x288 with 1 Axes>"
      ]
     },
     "metadata": {
      "needs_background": "light"
     },
     "output_type": "display_data"
    }
   ],
   "source": [
    "df_upsampled['istumor'].value_counts().plot.bar(color=['cyan','orange'])"
   ]
  },
  {
   "cell_type": "code",
   "execution_count": 8,
   "metadata": {},
   "outputs": [],
   "source": [
    "test_dataset = pd.read_csv('C:/Drive/Dissertation/OneDrive_1_23-06-2022/BraTSReg_Validation_Data_csv/BraTSReg_141_01_0505_t1ce_values.csv')"
   ]
  },
  {
   "cell_type": "code",
   "execution_count": 9,
   "metadata": {},
   "outputs": [],
   "source": [
    "X = df_upsampled[['X','pY','VoxVal','Z']]\n",
    "y = df_upsampled[['istumor']]"
   ]
  },
  {
   "cell_type": "code",
   "execution_count": 10,
   "metadata": {},
   "outputs": [],
   "source": [
    "X_test = test_dataset[['X','pY','VoxVal','Z']]\n",
    "y_test = test_dataset[['istumor']]"
   ]
  },
  {
   "cell_type": "code",
   "execution_count": 11,
   "metadata": {},
   "outputs": [],
   "source": [
    "# define the keras model\n",
    "model = Sequential()\n",
    "model.add(Dense(12, input_shape=(4,),kernel_initializer = 'uniform', activation='relu'))\n",
    "model.add(Dense(8,kernel_initializer = 'uniform', activation='relu'))\n",
    "model.add(Dense(1,kernel_initializer = 'uniform', activation='sigmoid'))"
   ]
  },
  {
   "cell_type": "code",
   "execution_count": 12,
   "metadata": {},
   "outputs": [],
   "source": [
    "# compile the keras model\n",
    "model.compile(loss='binary_crossentropy', optimizer='adam', metrics=['accuracy'])"
   ]
  },
  {
   "cell_type": "code",
   "execution_count": 13,
   "metadata": {},
   "outputs": [
    {
     "name": "stdout",
     "output_type": "stream",
     "text": [
      "Epoch 1/50\n",
      "181/181 [==============================] - 37s 142ms/step - loss: 0.4260 - accuracy: 0.7810 - val_loss: 0.4800 - val_accuracy: 0.8257\n",
      "Epoch 2/50\n",
      "181/181 [==============================] - 25s 126ms/step - loss: 0.3327 - accuracy: 0.8410 - val_loss: 0.3781 - val_accuracy: 0.8601\n",
      "Epoch 3/50\n",
      "181/181 [==============================] - 27s 126ms/step - loss: 0.2969 - accuracy: 0.8533 - val_loss: 0.3787 - val_accuracy: 0.8456\n",
      "Epoch 4/50\n",
      "181/181 [==============================] - 27s 128ms/step - loss: 0.2892 - accuracy: 0.8583 - val_loss: 0.3648 - val_accuracy: 0.8481\n",
      "Epoch 5/50\n",
      "181/181 [==============================] - 28s 132ms/step - loss: 0.2827 - accuracy: 0.8597 - val_loss: 0.3715 - val_accuracy: 0.8437\n",
      "Epoch 6/50\n",
      "181/181 [==============================] - 26s 126ms/step - loss: 0.2780 - accuracy: 0.8623 - val_loss: 0.3293 - val_accuracy: 0.8701\n",
      "Epoch 7/50\n",
      "181/181 [==============================] - 27s 127ms/step - loss: 0.2723 - accuracy: 0.8680 - val_loss: 0.3689 - val_accuracy: 0.8480\n",
      "Epoch 8/50\n",
      "181/181 [==============================] - 27s 126ms/step - loss: 0.2673 - accuracy: 0.8811 - val_loss: 0.3670 - val_accuracy: 0.8293\n",
      "Epoch 9/50\n",
      "181/181 [==============================] - 27s 128ms/step - loss: 0.2632 - accuracy: 0.8938 - val_loss: 0.3756 - val_accuracy: 0.8244\n",
      "Epoch 10/50\n",
      "181/181 [==============================] - 28s 131ms/step - loss: 0.2601 - accuracy: 0.8990 - val_loss: 0.3078 - val_accuracy: 0.8683\n",
      "Epoch 11/50\n",
      "181/181 [==============================] - 28s 129ms/step - loss: 0.2573 - accuracy: 0.9013 - val_loss: 0.3046 - val_accuracy: 0.8701\n",
      "Epoch 12/50\n",
      "181/181 [==============================] - 28s 131ms/step - loss: 0.2552 - accuracy: 0.9009 - val_loss: 0.2800 - val_accuracy: 0.8866\n",
      "Epoch 13/50\n",
      "181/181 [==============================] - 27s 127ms/step - loss: 0.2535 - accuracy: 0.8999 - val_loss: 0.3020 - val_accuracy: 0.8725\n",
      "Epoch 14/50\n",
      "181/181 [==============================] - 27s 126ms/step - loss: 0.2520 - accuracy: 0.8989 - val_loss: 0.2966 - val_accuracy: 0.8766\n",
      "Epoch 15/50\n",
      "181/181 [==============================] - 26s 124ms/step - loss: 0.2505 - accuracy: 0.8985 - val_loss: 0.2799 - val_accuracy: 0.8877\n",
      "Epoch 16/50\n",
      "181/181 [==============================] - 27s 125ms/step - loss: 0.2491 - accuracy: 0.9005 - val_loss: 0.3477 - val_accuracy: 0.8453\n",
      "Epoch 17/50\n",
      "181/181 [==============================] - 27s 125ms/step - loss: 0.2466 - accuracy: 0.9031 - val_loss: 0.3416 - val_accuracy: 0.8497\n",
      "Epoch 18/50\n",
      "181/181 [==============================] - 27s 126ms/step - loss: 0.2439 - accuracy: 0.9046 - val_loss: 0.3515 - val_accuracy: 0.8442\n",
      "Epoch 19/50\n",
      "181/181 [==============================] - 27s 125ms/step - loss: 0.2412 - accuracy: 0.9061 - val_loss: 0.3158 - val_accuracy: 0.8672\n",
      "Epoch 20/50\n",
      "181/181 [==============================] - 26s 124ms/step - loss: 0.2396 - accuracy: 0.9068 - val_loss: 0.3246 - val_accuracy: 0.8616\n",
      "Epoch 21/50\n",
      "181/181 [==============================] - 27s 123ms/step - loss: 0.2378 - accuracy: 0.9079 - val_loss: 0.2745 - val_accuracy: 0.8935\n",
      "Epoch 22/50\n",
      "181/181 [==============================] - 27s 126ms/step - loss: 0.2366 - accuracy: 0.9082 - val_loss: 0.3468 - val_accuracy: 0.8476\n",
      "Epoch 23/50\n",
      "181/181 [==============================] - 27s 126ms/step - loss: 0.2354 - accuracy: 0.9090 - val_loss: 0.3037 - val_accuracy: 0.8755\n",
      "Epoch 24/50\n",
      "181/181 [==============================] - 27s 126ms/step - loss: 0.2347 - accuracy: 0.9092 - val_loss: 0.3595 - val_accuracy: 0.8403\n",
      "Epoch 25/50\n",
      "181/181 [==============================] - 27s 124ms/step - loss: 0.2340 - accuracy: 0.9096 - val_loss: 0.3018 - val_accuracy: 0.8764\n",
      "Epoch 26/50\n",
      "181/181 [==============================] - 26s 124ms/step - loss: 0.2331 - accuracy: 0.9099 - val_loss: 0.3458 - val_accuracy: 0.8495\n",
      "Epoch 27/50\n",
      "181/181 [==============================] - 27s 124ms/step - loss: 0.2326 - accuracy: 0.9098 - val_loss: 0.3798 - val_accuracy: 0.8286\n",
      "Epoch 28/50\n",
      "181/181 [==============================] - 27s 125ms/step - loss: 0.2319 - accuracy: 0.9098 - val_loss: 0.3317 - val_accuracy: 0.8585\n",
      "Epoch 29/50\n",
      "181/181 [==============================] - 26s 124ms/step - loss: 0.2314 - accuracy: 0.9099 - val_loss: 0.3133 - val_accuracy: 0.8702\n",
      "Epoch 30/50\n",
      "181/181 [==============================] - 27s 125ms/step - loss: 0.2308 - accuracy: 0.9103 - val_loss: 0.2727 - val_accuracy: 0.8962\n",
      "Epoch 31/50\n",
      "181/181 [==============================] - 26s 123ms/step - loss: 0.2302 - accuracy: 0.9104 - val_loss: 0.2636 - val_accuracy: 0.9016\n",
      "Epoch 32/50\n",
      "181/181 [==============================] - 27s 124ms/step - loss: 0.2297 - accuracy: 0.9107 - val_loss: 0.3096 - val_accuracy: 0.8738\n",
      "Epoch 33/50\n",
      "181/181 [==============================] - 27s 125ms/step - loss: 0.2295 - accuracy: 0.9104 - val_loss: 0.3091 - val_accuracy: 0.8739\n",
      "Epoch 34/50\n",
      "181/181 [==============================] - 27s 125ms/step - loss: 0.2288 - accuracy: 0.9110 - val_loss: 0.3296 - val_accuracy: 0.8612\n",
      "Epoch 35/50\n",
      "181/181 [==============================] - 27s 128ms/step - loss: 0.2285 - accuracy: 0.9109 - val_loss: 0.2930 - val_accuracy: 0.8846\n",
      "Epoch 36/50\n",
      "181/181 [==============================] - 27s 126ms/step - loss: 0.2279 - accuracy: 0.9110 - val_loss: 0.3001 - val_accuracy: 0.8804\n",
      "Epoch 37/50\n",
      "181/181 [==============================] - 27s 128ms/step - loss: 0.2275 - accuracy: 0.9112 - val_loss: 0.2925 - val_accuracy: 0.8855\n",
      "Epoch 38/50\n",
      "181/181 [==============================] - 26s 123ms/step - loss: 0.2272 - accuracy: 0.9112 - val_loss: 0.2742 - val_accuracy: 0.8965\n",
      "Epoch 39/50\n",
      "181/181 [==============================] - 27s 124ms/step - loss: 0.2270 - accuracy: 0.9112 - val_loss: 0.3462 - val_accuracy: 0.8517\n",
      "Epoch 40/50\n",
      "181/181 [==============================] - 26s 125ms/step - loss: 0.2269 - accuracy: 0.9114 - val_loss: 0.2993 - val_accuracy: 0.8817\n",
      "Epoch 41/50\n",
      "181/181 [==============================] - 26s 123ms/step - loss: 0.2262 - accuracy: 0.9117 - val_loss: 0.2669 - val_accuracy: 0.9014\n",
      "Epoch 42/50\n",
      "181/181 [==============================] - 26s 123ms/step - loss: 0.2262 - accuracy: 0.9114 - val_loss: 0.2567 - val_accuracy: 0.9068\n",
      "Epoch 43/50\n",
      "181/181 [==============================] - 26s 122ms/step - loss: 0.2261 - accuracy: 0.9113 - val_loss: 0.2537 - val_accuracy: 0.9091\n",
      "Epoch 44/50\n",
      "181/181 [==============================] - 26s 123ms/step - loss: 0.2255 - accuracy: 0.9119 - val_loss: 0.3189 - val_accuracy: 0.8699\n",
      "Epoch 45/50\n",
      "181/181 [==============================] - 26s 123ms/step - loss: 0.2252 - accuracy: 0.9119 - val_loss: 0.3644 - val_accuracy: 0.8415\n",
      "Epoch 46/50\n",
      "181/181 [==============================] - 26s 121ms/step - loss: 0.2254 - accuracy: 0.9123 - val_loss: 0.3069 - val_accuracy: 0.8778\n",
      "Epoch 47/50\n",
      "181/181 [==============================] - 26s 123ms/step - loss: 0.2248 - accuracy: 0.9124 - val_loss: 0.2865 - val_accuracy: 0.8906\n",
      "Epoch 48/50\n",
      "181/181 [==============================] - 26s 122ms/step - loss: 0.2248 - accuracy: 0.9131 - val_loss: 0.3156 - val_accuracy: 0.8732\n",
      "Epoch 49/50\n",
      "181/181 [==============================] - 26s 123ms/step - loss: 0.2246 - accuracy: 0.9137 - val_loss: 0.3017 - val_accuracy: 0.8814\n",
      "Epoch 50/50\n",
      "181/181 [==============================] - 25s 118ms/step - loss: 0.2244 - accuracy: 0.9141 - val_loss: 0.2662 - val_accuracy: 0.9028\n"
     ]
    }
   ],
   "source": [
    "# fit the keras model on the dataset\n",
    "epoch_history = model.fit(X, y, epochs=50, batch_size=500000,validation_split=0.2)"
   ]
  },
  {
   "cell_type": "code",
   "execution_count": 14,
   "metadata": {},
   "outputs": [
    {
     "data": {
      "image/png": "[encoded data removed]",
      "text/plain": [
       "<Figure size 432x288 with 1 Axes>"
      ]
     },
     "metadata": {
      "needs_background": "light"
     },
     "output_type": "display_data"
    }
   ],
   "source": [
    "# Get training and test loss histories\n",
    "training_loss = epoch_history.history['loss']\n",
    "test_loss = epoch_history.history['val_loss']\n",
    "\n",
    "# Create count of the number of epochs\n",
    "epoch_count = range(1, len(training_loss) + 1)\n",
    "\n",
    "# Visualize loss history\n",
    "plt.plot(epoch_count, training_loss, 'r--')\n",
    "plt.plot(epoch_count, test_loss, 'b-')\n",
    "plt.legend(['Training Loss', 'Test Loss'])\n",
    "plt.xlabel('Epoch')\n",
    "plt.ylabel('Loss')\n",
    "plt.show()"
   ]
  },
  {
   "cell_type": "code",
   "execution_count": 15,
   "metadata": {},
   "outputs": [
    {
     "data": {
      "image/png": "[encoded data removed]",
      "text/plain": [
       "<Figure size 432x288 with 1 Axes>"
      ]
     },
     "metadata": {
      "needs_background": "light"
     },
     "output_type": "display_data"
    }
   ],
   "source": [
    "# Get training and test accuracy histories\n",
    "training_accuracy = epoch_history.history['accuracy']\n",
    "test_accuracy = epoch_history.history['val_accuracy']\n",
    "\n",
    "# Create count of the number of epochs\n",
    "epoch_count = range(1, len(training_accuracy) + 1)\n",
    "\n",
    "# Visualize accuracy history\n",
    "plt.plot(epoch_count, training_accuracy, 'r--')\n",
    "plt.plot(epoch_count, test_accuracy, 'b-')\n",
    "plt.legend(['Training Accuracy', 'Test Accuracy'])\n",
    "plt.xlabel('Epoch')\n",
    "plt.ylabel('Accuracy')\n",
    "plt.show()"
   ]
  },
  {
   "cell_type": "code",
   "execution_count": 16,
   "metadata": {},
   "outputs": [
    {
     "name": "stdout",
     "output_type": "stream",
     "text": [
      "3516201/3516201 [==============================] - 4954s 1ms/step - loss: 0.2332 - accuracy: 0.9189\n",
      "Accuracy: 91.89\n"
     ]
    }
   ],
   "source": [
    "# evaluate the keras model\n",
    "_, accuracy = model.evaluate(X, y,batch_size = 32)\n",
    "print('Accuracy: %.2f' % (accuracy*100))"
   ]
  },
  {
   "cell_type": "code",
   "execution_count": 17,
   "metadata": {},
   "outputs": [
    {
     "name": "stdout",
     "output_type": "stream",
     "text": [
      "47899/47899 [==============================] - 61s 1ms/step\n"
     ]
    }
   ],
   "source": [
    "predictions = model.predict(X_test,batch_size = 32)\n",
    "test_dataset['istumor_Pred'] = predictions"
   ]
  },
  {
   "cell_type": "code",
   "execution_count": 20,
   "metadata": {},
   "outputs": [
    {
     "data": {
      "text/html": [
       "<div>\n",
       "<style scoped>\n",
       "    .dataframe tbody tr th:only-of-type {\n",
       "        vertical-align: middle;\n",
       "    }\n",
       "\n",
       "    .dataframe tbody tr th {\n",
       "        vertical-align: top;\n",
       "    }\n",
       "\n",
       "    .dataframe thead th {\n",
       "        text-align: right;\n",
       "    }\n",
       "</style>\n",
       "<table border=\"1\" class=\"dataframe\">\n",
       "  <thead>\n",
       "    <tr style=\"text-align: right;\">\n",
       "      <th></th>\n",
       "      <th>Unnamed: 0</th>\n",
       "      <th>X</th>\n",
       "      <th>pY</th>\n",
       "      <th>VoxVal</th>\n",
       "      <th>Z</th>\n",
       "      <th>NiiFileName</th>\n",
       "      <th>LandmarksFileName</th>\n",
       "      <th>istumor</th>\n",
       "      <th>istumor_Pred</th>\n",
       "    </tr>\n",
       "  </thead>\n",
       "  <tbody>\n",
       "    <tr>\n",
       "      <th>470361</th>\n",
       "      <td>45496</td>\n",
       "      <td>136</td>\n",
       "      <td>189</td>\n",
       "      <td>416.500977</td>\n",
       "      <td>58</td>\n",
       "      <td>BraTSReg_141_01_0505_t1ce.nii.gz</td>\n",
       "      <td>BraTSReg_001_00_0000_landmarks.csv</td>\n",
       "      <td>1</td>\n",
       "      <td>0.002714</td>\n",
       "    </tr>\n",
       "    <tr>\n",
       "      <th>855570</th>\n",
       "      <td>36405</td>\n",
       "      <td>165</td>\n",
       "      <td>151</td>\n",
       "      <td>665.296570</td>\n",
       "      <td>80</td>\n",
       "      <td>BraTSReg_141_01_0505_t1ce.nii.gz</td>\n",
       "      <td>BraTSReg_001_00_0000_landmarks.csv</td>\n",
       "      <td>1</td>\n",
       "      <td>0.080942</td>\n",
       "    </tr>\n",
       "    <tr>\n",
       "      <th>596329</th>\n",
       "      <td>28176</td>\n",
       "      <td>96</td>\n",
       "      <td>117</td>\n",
       "      <td>508.371704</td>\n",
       "      <td>66</td>\n",
       "      <td>BraTSReg_141_01_0505_t1ce.nii.gz</td>\n",
       "      <td>BraTSReg_001_00_0000_landmarks.csv</td>\n",
       "      <td>1</td>\n",
       "      <td>0.113841</td>\n",
       "    </tr>\n",
       "    <tr>\n",
       "      <th>942248</th>\n",
       "      <td>28903</td>\n",
       "      <td>103</td>\n",
       "      <td>120</td>\n",
       "      <td>1105.026367</td>\n",
       "      <td>85</td>\n",
       "      <td>BraTSReg_141_01_0505_t1ce.nii.gz</td>\n",
       "      <td>BraTSReg_001_00_0000_landmarks.csv</td>\n",
       "      <td>1</td>\n",
       "      <td>0.891448</td>\n",
       "    </tr>\n",
       "    <tr>\n",
       "      <th>1356271</th>\n",
       "      <td>27709</td>\n",
       "      <td>109</td>\n",
       "      <td>115</td>\n",
       "      <td>651.657043</td>\n",
       "      <td>111</td>\n",
       "      <td>BraTSReg_141_01_0505_t1ce.nii.gz</td>\n",
       "      <td>BraTSReg_001_00_0000_landmarks.csv</td>\n",
       "      <td>1</td>\n",
       "      <td>0.016396</td>\n",
       "    </tr>\n",
       "    <tr>\n",
       "      <th>...</th>\n",
       "      <td>...</td>\n",
       "      <td>...</td>\n",
       "      <td>...</td>\n",
       "      <td>...</td>\n",
       "      <td>...</td>\n",
       "      <td>...</td>\n",
       "      <td>...</td>\n",
       "      <td>...</td>\n",
       "      <td>...</td>\n",
       "    </tr>\n",
       "    <tr>\n",
       "      <th>1316118</th>\n",
       "      <td>24794</td>\n",
       "      <td>74</td>\n",
       "      <td>103</td>\n",
       "      <td>2893.317383</td>\n",
       "      <td>108</td>\n",
       "      <td>BraTSReg_141_01_0505_t1ce.nii.gz</td>\n",
       "      <td>BraTSReg_001_00_0000_landmarks.csv</td>\n",
       "      <td>0</td>\n",
       "      <td>0.999999</td>\n",
       "    </tr>\n",
       "    <tr>\n",
       "      <th>1316645</th>\n",
       "      <td>25991</td>\n",
       "      <td>71</td>\n",
       "      <td>108</td>\n",
       "      <td>2918.681641</td>\n",
       "      <td>108</td>\n",
       "      <td>BraTSReg_141_01_0505_t1ce.nii.gz</td>\n",
       "      <td>BraTSReg_001_00_0000_landmarks.csv</td>\n",
       "      <td>0</td>\n",
       "      <td>1.000000</td>\n",
       "    </tr>\n",
       "    <tr>\n",
       "      <th>1316646</th>\n",
       "      <td>25992</td>\n",
       "      <td>72</td>\n",
       "      <td>108</td>\n",
       "      <td>3023.881836</td>\n",
       "      <td>108</td>\n",
       "      <td>BraTSReg_141_01_0505_t1ce.nii.gz</td>\n",
       "      <td>BraTSReg_001_00_0000_landmarks.csv</td>\n",
       "      <td>0</td>\n",
       "      <td>1.000000</td>\n",
       "    </tr>\n",
       "    <tr>\n",
       "      <th>1316647</th>\n",
       "      <td>25993</td>\n",
       "      <td>73</td>\n",
       "      <td>108</td>\n",
       "      <td>2913.518066</td>\n",
       "      <td>108</td>\n",
       "      <td>BraTSReg_141_01_0505_t1ce.nii.gz</td>\n",
       "      <td>BraTSReg_001_00_0000_landmarks.csv</td>\n",
       "      <td>0</td>\n",
       "      <td>1.000000</td>\n",
       "    </tr>\n",
       "    <tr>\n",
       "      <th>1531126</th>\n",
       "      <td>28199</td>\n",
       "      <td>119</td>\n",
       "      <td>117</td>\n",
       "      <td>2797.397461</td>\n",
       "      <td>135</td>\n",
       "      <td>BraTSReg_141_01_0505_t1ce.nii.gz</td>\n",
       "      <td>BraTSReg_001_00_0000_landmarks.csv</td>\n",
       "      <td>0</td>\n",
       "      <td>0.999999</td>\n",
       "    </tr>\n",
       "  </tbody>\n",
       "</table>\n",
       "<p>226 rows × 9 columns</p>\n",
       "</div>"
      ],
      "text/plain": [
       "         Unnamed: 0    X   pY       VoxVal    Z  \\\n",
       "470361        45496  136  189   416.500977   58   \n",
       "855570        36405  165  151   665.296570   80   \n",
       "596329        28176   96  117   508.371704   66   \n",
       "942248        28903  103  120  1105.026367   85   \n",
       "1356271       27709  109  115   651.657043  111   \n",
       "...             ...  ...  ...          ...  ...   \n",
       "1316118       24794   74  103  2893.317383  108   \n",
       "1316645       25991   71  108  2918.681641  108   \n",
       "1316646       25992   72  108  3023.881836  108   \n",
       "1316647       25993   73  108  2913.518066  108   \n",
       "1531126       28199  119  117  2797.397461  135   \n",
       "\n",
       "                              NiiFileName                   LandmarksFileName  \\\n",
       "470361   BraTSReg_141_01_0505_t1ce.nii.gz  BraTSReg_001_00_0000_landmarks.csv   \n",
       "855570   BraTSReg_141_01_0505_t1ce.nii.gz  BraTSReg_001_00_0000_landmarks.csv   \n",
       "596329   BraTSReg_141_01_0505_t1ce.nii.gz  BraTSReg_001_00_0000_landmarks.csv   \n",
       "942248   BraTSReg_141_01_0505_t1ce.nii.gz  BraTSReg_001_00_0000_landmarks.csv   \n",
       "1356271  BraTSReg_141_01_0505_t1ce.nii.gz  BraTSReg_001_00_0000_landmarks.csv   \n",
       "...                                   ...                                 ...   \n",
       "1316118  BraTSReg_141_01_0505_t1ce.nii.gz  BraTSReg_001_00_0000_landmarks.csv   \n",
       "1316645  BraTSReg_141_01_0505_t1ce.nii.gz  BraTSReg_001_00_0000_landmarks.csv   \n",
       "1316646  BraTSReg_141_01_0505_t1ce.nii.gz  BraTSReg_001_00_0000_landmarks.csv   \n",
       "1316647  BraTSReg_141_01_0505_t1ce.nii.gz  BraTSReg_001_00_0000_landmarks.csv   \n",
       "1531126  BraTSReg_141_01_0505_t1ce.nii.gz  BraTSReg_001_00_0000_landmarks.csv   \n",
       "\n",
       "         istumor  istumor_Pred  \n",
       "470361         1      0.002714  \n",
       "855570         1      0.080942  \n",
       "596329         1      0.113841  \n",
       "942248         1      0.891448  \n",
       "1356271        1      0.016396  \n",
       "...          ...           ...  \n",
       "1316118        0      0.999999  \n",
       "1316645        0      1.000000  \n",
       "1316646        0      1.000000  \n",
       "1316647        0      1.000000  \n",
       "1531126        0      0.999999  \n",
       "\n",
       "[226 rows x 9 columns]"
      ]
     },
     "execution_count": 20,
     "metadata": {},
     "output_type": "execute_result"
    }
   ],
   "source": [
    "test_dataset.query('istumor_Pred >= 0.999999 | istumor == 1').sort_values(['istumor'],ascending=False)"
   ]
  },
  {
   "cell_type": "code",
   "execution_count": 21,
   "metadata": {},
   "outputs": [],
   "source": [
    "from keras.models import load_model\n",
    "\n",
    "model.save('dlmlp35t1ce_9182.h5')"
   ]
  },
  {
   "cell_type": "code",
   "execution_count": 23,
   "metadata": {},
   "outputs": [
    {
     "name": "stdout",
     "output_type": "stream",
     "text": [
      "              precision    recall  f1-score   support\n",
      "\n",
      "           0       1.00      0.82      0.90   1532742\n",
      "           1       0.00      0.25      0.00         8\n",
      "\n",
      "    accuracy                           0.82   1532750\n",
      "   macro avg       0.50      0.54      0.45   1532750\n",
      "weighted avg       1.00      0.82      0.90   1532750\n",
      "\n",
      "[[1262475  270267]\n",
      " [      6       2]]\n"
     ]
    }
   ],
   "source": [
    "#precision \n",
    "from sklearn.metrics import classification_report, confusion_matrix\n",
    "print(classification_report(test_dataset['istumor'],test_dataset['istumor_Pred'].round()))\n",
    "print(confusion_matrix(test_dataset['istumor'], test_dataset['istumor_Pred'].round()))"
   ]
  }
 ],
 "metadata": {
  "kernelspec": {
   "display_name": "Python 3 (ipykernel)",
   "language": "python",
   "name": "python3"
  },
  "language_info": {
   "codemirror_mode": {
    "name": "ipython",
    "version": 3
   },
   "file_extension": ".py",
   "mimetype": "text/x-python",
   "name": "python",
   "nbconvert_exporter": "python",
   "pygments_lexer": "ipython3",
   "version": "3.9.7"
  },
  "vscode": {
   "interpreter": {
    "hash": "079e6fc4cc6f2494554dc155f32b6026769bbf640a577e3529c4e6b916a8d5cd"
   }
  }
 },
 "nbformat": 4,
 "nbformat_minor": 2
}
