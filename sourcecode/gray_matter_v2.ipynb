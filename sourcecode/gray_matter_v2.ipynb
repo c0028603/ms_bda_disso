{
 "cells": [
  {
   "cell_type": "code",
   "execution_count": 1,
   "metadata": {},
   "outputs": [],
   "source": [
    "import glob\n",
    "import os\n",
    "import pandas as pd\n",
    "def get_gray_matter_df_for_model(filepath,output_csv_path):\n",
    "        df = pd.read_csv(filepath)\n",
    "        df1 = df.query('istumor == 1')\n",
    "        xyz_df_v2 = df1\n",
    "        xy_df_v2 = pd.DataFrame()\n",
    "        xyz_df_v2 = pd.DataFrame()\n",
    "        for tloc in range(0,len(df1)):\n",
    "            for i in range(1,6):\n",
    "                xy_n_df = df[(df['X'].isin([df1.X.iloc[tloc]])) & (df['pY'].isin([df1.pY.iloc[tloc]-i])) & (df['Z'].isin([df1.Z.iloc[tloc]]))]\n",
    "                xy_p_df = df[(df['X'].isin([df1.X.iloc[tloc]])) & (df['pY'].isin([df1.pY.iloc[tloc]+i])) & (df['Z'].isin([df1.Z.iloc[tloc]]))]\n",
    "                #print([df1.X.iloc[0]],[df1.pY.iloc[0]-i],[df1.pY.iloc[0]+i])\n",
    "                xy_df_v2 = pd.concat([xy_df_v2,xy_n_df,xy_p_df])\n",
    "            for loc in range(0,len(xy_df_v2)):\n",
    "                for j in range(1,6):\n",
    "                    #print(\"the value of j is {}\".format(j))\n",
    "                    xyz_n_df = df[(df['X'].isin([xy_df_v2.X.iloc[loc]])) & (df.pY.isin([xy_df_v2.pY.iloc[loc]])) & (df['Z'].isin([xy_df_v2.Z.iloc[loc]-j]))]\n",
    "                    xyz_p_df = df[(df['X'].isin([xy_df_v2.X.iloc[loc]])) & (df.pY.isin([xy_df_v2.pY.iloc[loc]])) & (df['Z'].isin([xy_df_v2.Z.iloc[loc]+j]))]       \n",
    "                    xyz_df_v2 = pd.concat([xyz_df_v2,xyz_n_df,xyz_p_df])\n",
    "            #print(xyz_df_v2.Z)\n",
    "        #print(xy_df_v2.X,xy_df_v2.pY,xy_df_v2.Z)\n",
    "        #print(df.query('istumor == 1'))\n",
    "        xyz_df_v2 = pd.concat([xyz_df_v2,df1])\n",
    "        xyz_df_v2 = xyz_df_v2.drop_duplicates()\n",
    "        #print(xyz_df_v2)\n",
    "        #'C:/Drive/Dissertation/OneDrive_1_23-06-2022/BraTSReg_gray_matter_csv/'\n",
    "        return xyz_df_v2"
   ]
  },
  {
   "cell_type": "code",
   "execution_count": 2,
   "metadata": {},
   "outputs": [
    {
     "name": "stdout",
     "output_type": "stream",
     "text": [
      "C:/Drive/Dissertation/OneDrive_1_23-06-2022/BraTSReg_Training_Data_v2_csv/BraTSReg_001_00_0000_flai_values.csv\n"
     ]
    },
    {
     "ename": "KeyboardInterrupt",
     "evalue": "",
     "output_type": "error",
     "traceback": [
      "\u001b[1;31m---------------------------------------------------------------------------\u001b[0m",
      "\u001b[1;31mKeyboardInterrupt\u001b[0m                         Traceback (most recent call last)",
      "\u001b[1;32mc:\\Drive\\Dissertation\\Nii Preprocessed\\gray_matter_notebook.ipynb Cell 2\u001b[0m in \u001b[0;36m<cell line: 8>\u001b[1;34m()\u001b[0m\n\u001b[0;32m     <a href='vscode-notebook-cell:/c%3A/Drive/Dissertation/Nii%20Preprocessed/gray_matter_notebook.ipynb#ch0000001?line=30'>31</a>\u001b[0m \u001b[39mfor\u001b[39;00m xloc \u001b[39min\u001b[39;00m \u001b[39mrange\u001b[39m(\u001b[39m0\u001b[39m,\u001b[39mlen\u001b[39m(yz_df_v2)):\n\u001b[0;32m     <a href='vscode-notebook-cell:/c%3A/Drive/Dissertation/Nii%20Preprocessed/gray_matter_notebook.ipynb#ch0000001?line=31'>32</a>\u001b[0m \u001b[39m#print([yz_df_v2.X.iloc[xloc]-1])\u001b[39;00m\n\u001b[0;32m     <a href='vscode-notebook-cell:/c%3A/Drive/Dissertation/Nii%20Preprocessed/gray_matter_notebook.ipynb#ch0000001?line=32'>33</a>\u001b[0m     \u001b[39mfor\u001b[39;00m k \u001b[39min\u001b[39;00m \u001b[39mrange\u001b[39m(\u001b[39m1\u001b[39m,\u001b[39m4\u001b[39m):\n\u001b[0;32m     <a href='vscode-notebook-cell:/c%3A/Drive/Dissertation/Nii%20Preprocessed/gray_matter_notebook.ipynb#ch0000001?line=33'>34</a>\u001b[0m     \u001b[39m#print(\"the value of j is {}\".format(j))\u001b[39;00m\n\u001b[1;32m---> <a href='vscode-notebook-cell:/c%3A/Drive/Dissertation/Nii%20Preprocessed/gray_matter_notebook.ipynb#ch0000001?line=34'>35</a>\u001b[0m         xyz_n_df \u001b[39m=\u001b[39m df[(df[\u001b[39m'\u001b[39;49m\u001b[39mX\u001b[39;49m\u001b[39m'\u001b[39;49m]\u001b[39m.\u001b[39;49misin([yz_df_v2\u001b[39m.\u001b[39;49mX\u001b[39m.\u001b[39;49miloc[xloc]\u001b[39m-\u001b[39;49mk])) \u001b[39m&\u001b[39m (df[\u001b[39m'\u001b[39m\u001b[39mpY\u001b[39m\u001b[39m'\u001b[39m]\u001b[39m.\u001b[39misin([yz_df_v2\u001b[39m.\u001b[39mpY\u001b[39m.\u001b[39miloc[xloc]])) \u001b[39m&\u001b[39m (df[\u001b[39m'\u001b[39m\u001b[39mZ\u001b[39m\u001b[39m'\u001b[39m]\u001b[39m.\u001b[39misin([yz_df_v2\u001b[39m.\u001b[39mZ\u001b[39m.\u001b[39miloc[xloc]]))]\n\u001b[0;32m     <a href='vscode-notebook-cell:/c%3A/Drive/Dissertation/Nii%20Preprocessed/gray_matter_notebook.ipynb#ch0000001?line=35'>36</a>\u001b[0m         \u001b[39m#print(xyz_n_df)\u001b[39;00m\n\u001b[0;32m     <a href='vscode-notebook-cell:/c%3A/Drive/Dissertation/Nii%20Preprocessed/gray_matter_notebook.ipynb#ch0000001?line=36'>37</a>\u001b[0m         xyz_p_df \u001b[39m=\u001b[39m df[(df[\u001b[39m'\u001b[39m\u001b[39mX\u001b[39m\u001b[39m'\u001b[39m]\u001b[39m.\u001b[39misin([yz_df_v2\u001b[39m.\u001b[39mX\u001b[39m.\u001b[39miloc[xloc]\u001b[39m+\u001b[39mk])) \u001b[39m&\u001b[39m (df[\u001b[39m'\u001b[39m\u001b[39mpY\u001b[39m\u001b[39m'\u001b[39m]\u001b[39m.\u001b[39misin([yz_df_v2\u001b[39m.\u001b[39mpY\u001b[39m.\u001b[39miloc[xloc]])) \u001b[39m&\u001b[39m (df[\u001b[39m'\u001b[39m\u001b[39mZ\u001b[39m\u001b[39m'\u001b[39m]\u001b[39m.\u001b[39misin([yz_df_v2\u001b[39m.\u001b[39mZ\u001b[39m.\u001b[39miloc[xloc]]))]\n",
      "File \u001b[1;32mc:\\Users\\Raveendra.Pasumarthi\\Anaconda3\\lib\\site-packages\\pandas\\core\\series.py:5141\u001b[0m, in \u001b[0;36mSeries.isin\u001b[1;34m(self, values)\u001b[0m\n\u001b[0;32m   5068\u001b[0m \u001b[39mdef\u001b[39;00m \u001b[39misin\u001b[39m(\u001b[39mself\u001b[39m, values) \u001b[39m-\u001b[39m\u001b[39m>\u001b[39m Series:\n\u001b[0;32m   5069\u001b[0m     \u001b[39m\"\"\"\u001b[39;00m\n\u001b[0;32m   5070\u001b[0m \u001b[39m    Whether elements in Series are contained in `values`.\u001b[39;00m\n\u001b[0;32m   5071\u001b[0m \n\u001b[1;32m   (...)\u001b[0m\n\u001b[0;32m   5139\u001b[0m \u001b[39m    dtype: bool\u001b[39;00m\n\u001b[0;32m   5140\u001b[0m \u001b[39m    \"\"\"\u001b[39;00m\n\u001b[1;32m-> 5141\u001b[0m     result \u001b[39m=\u001b[39m algorithms\u001b[39m.\u001b[39;49misin(\u001b[39mself\u001b[39;49m\u001b[39m.\u001b[39;49m_values, values)\n\u001b[0;32m   5142\u001b[0m     \u001b[39mreturn\u001b[39;00m \u001b[39mself\u001b[39m\u001b[39m.\u001b[39m_constructor(result, index\u001b[39m=\u001b[39m\u001b[39mself\u001b[39m\u001b[39m.\u001b[39mindex)\u001b[39m.\u001b[39m__finalize__(\n\u001b[0;32m   5143\u001b[0m         \u001b[39mself\u001b[39m, method\u001b[39m=\u001b[39m\u001b[39m\"\u001b[39m\u001b[39misin\u001b[39m\u001b[39m\"\u001b[39m\n\u001b[0;32m   5144\u001b[0m     )\n",
      "File \u001b[1;32mc:\\Users\\Raveendra.Pasumarthi\\Anaconda3\\lib\\site-packages\\pandas\\core\\algorithms.py:521\u001b[0m, in \u001b[0;36misin\u001b[1;34m(comps, values)\u001b[0m\n\u001b[0;32m    518\u001b[0m     comps \u001b[39m=\u001b[39m comps\u001b[39m.\u001b[39mastype(common, copy\u001b[39m=\u001b[39m\u001b[39mFalse\u001b[39;00m)\n\u001b[0;32m    519\u001b[0m     f \u001b[39m=\u001b[39m htable\u001b[39m.\u001b[39mismember\n\u001b[1;32m--> 521\u001b[0m \u001b[39mreturn\u001b[39;00m f(comps, values)\n",
      "File \u001b[1;32m<__array_function__ internals>:180\u001b[0m, in \u001b[0;36min1d\u001b[1;34m(*args, **kwargs)\u001b[0m\n",
      "File \u001b[1;32m~\\AppData\\Roaming\\Python\\Python39\\site-packages\\numpy\\lib\\arraysetops.py:612\u001b[0m, in \u001b[0;36min1d\u001b[1;34m(ar1, ar2, assume_unique, invert)\u001b[0m\n\u001b[0;32m    610\u001b[0m         mask \u001b[39m=\u001b[39m np\u001b[39m.\u001b[39mzeros(\u001b[39mlen\u001b[39m(ar1), dtype\u001b[39m=\u001b[39m\u001b[39mbool\u001b[39m)\n\u001b[0;32m    611\u001b[0m         \u001b[39mfor\u001b[39;00m a \u001b[39min\u001b[39;00m ar2:\n\u001b[1;32m--> 612\u001b[0m             mask \u001b[39m|\u001b[39m\u001b[39m=\u001b[39m (ar1 \u001b[39m==\u001b[39;49m a)\n\u001b[0;32m    613\u001b[0m     \u001b[39mreturn\u001b[39;00m mask\n\u001b[0;32m    615\u001b[0m \u001b[39m# Otherwise use sorting\u001b[39;00m\n",
      "\u001b[1;31mKeyboardInterrupt\u001b[0m: "
     ]
    }
   ],
   "source": [
    "csv_files = []\n",
    "input_csv_path = \"C:/Drive/Dissertation/OneDrive_1_23-06-2022/BraTSReg_Training_Data_v2_csv/\"\n",
    "for root, directories, files in  os.walk(input_csv_path, topdown=False):\n",
    "    for file in files:\n",
    "        csv_files.append(file)\n",
    "csv_files\n",
    "\n",
    "for file in csv_files:\n",
    "    if file == 'BraTSReg_001_00_0000_flai_values.csv':\n",
    "        filename = input_csv_path + file\n",
    "        print(filename)\n",
    "        df = pd.read_csv(filename)\n",
    "        df1 = df.query('istumor == 1')\n",
    "        #xyz_df_v2 = df1\n",
    "        y_df_v2 = pd.DataFrame()\n",
    "        yz_df_v2 = pd.DataFrame()\n",
    "        xyz_df_v2 = pd.DataFrame()\n",
    "        for tloc in range(0,len(df1)):\n",
    "            for i in range(1,4):\n",
    "                y_n_df = df[(df['X'].isin([df1.X.iloc[tloc]])) & (df['pY'].isin([df1.pY.iloc[tloc]-i])) & (df['Z'].isin([df1.Z.iloc[tloc]]))]\n",
    "                y_p_df = df[(df['X'].isin([df1.X.iloc[tloc]])) & (df['pY'].isin([df1.pY.iloc[tloc]+i])) & (df['Z'].isin([df1.Z.iloc[tloc]]))]\n",
    "                #print([df1.X.iloc[0]],[df1.pY.iloc[0]-i],[df1.pY.iloc[0]+i])\n",
    "                y_df_v2 = pd.concat([y_df_v2,y_n_df,y_p_df])\n",
    "            #print(len(y_df_v2))\n",
    "            for loc in range(0,len(y_df_v2)):\n",
    "                for j in range(1,4):\n",
    "                    #print(\"the value of j is {}\".format(j))\n",
    "                    yz_n_df = df[(df['X'].isin([y_df_v2.X.iloc[loc]])) & (df['pY'].isin([y_df_v2.pY.iloc[loc]])) & (df['Z'].isin([y_df_v2.Z.iloc[loc]-j]))]\n",
    "                    yz_p_df = df[(df['X'].isin([y_df_v2.X.iloc[loc]])) & (df['pY'].isin([y_df_v2.pY.iloc[loc]])) & (df['Z'].isin([y_df_v2.Z.iloc[loc]+j]))]       \n",
    "                    yz_df_v2 = pd.concat([yz_df_v2,yz_n_df,yz_p_df])\n",
    "        for xloc in range(0,len(yz_df_v2)):\n",
    "        #print([yz_df_v2.X.iloc[xloc]-1])\n",
    "            for k in range(1,4):\n",
    "            #print(\"the value of j is {}\".format(j))\n",
    "                xyz_n_df = df[(df['X'].isin([yz_df_v2.X.iloc[xloc]-k])) & (df['pY'].isin([yz_df_v2.pY.iloc[xloc]])) & (df['Z'].isin([yz_df_v2.Z.iloc[xloc]]))]\n",
    "                #print(xyz_n_df)\n",
    "                xyz_p_df = df[(df['X'].isin([yz_df_v2.X.iloc[xloc]+k])) & (df['pY'].isin([yz_df_v2.pY.iloc[xloc]])) & (df['Z'].isin([yz_df_v2.Z.iloc[xloc]]))]\n",
    "                #print(xyz_p_df)\n",
    "                xyz_df_v2 = pd.concat([xyz_df_v2,xyz_n_df,xyz_p_df])\n",
    "        gray_df_v2 = pd.concat([xyz_df_v2,yz_df_v2,df1])\n",
    "        gray_df_v2.drop_duplicates().to_csv('C:/Drive/Dissertation/OneDrive_1_23-06-2022/BraTSReg_gray_matter_csv/'+ gray_df_v2.NiiFileName.iloc[0] + '_gray_matter_001.csv', index=False)    #print(len(yz_df_v2))"
   ]
  },
  {
   "cell_type": "code",
   "execution_count": 19,
   "metadata": {},
   "outputs": [
    {
     "name": "stdout",
     "output_type": "stream",
     "text": [
      "      Unnamed: 0    X   pY  VoxVal   Z                        NiiFileName  \\\n",
      "1396       33991  151  141   453.0  70  BraTSReg_001_00_0000_flair.nii.gz   \n",
      "\n",
      "                       LandmarksFileName  istumor  \n",
      "1396  BraTSReg_001_00_0000_landmarks.csv        1  \n"
     ]
    }
   ],
   "source": [
    "import matplotlib.pyplot as plt\n",
    "\n",
    "df = pd.read_csv('C:/Drive/Dissertation/OneDrive_1_23-06-2022/BraTSReg_gray_matter_csv/BraTSReg_001_00_0000_flair.nii.gz_gray_matter_001.csv')\n",
    "istumor_df = df.query('istumor == 1')\n",
    "print(istumor_df.query('Z == 70'))\n",
    "#df.query('Z == 70').describe"
   ]
  },
  {
   "cell_type": "code",
   "execution_count": 20,
   "metadata": {},
   "outputs": [
    {
     "data": {
      "image/png": "[encoded data removed]",
      "text/plain": [
       "<Figure size 432x288 with 1 Axes>"
      ]
     },
     "metadata": {
      "needs_background": "light"
     },
     "output_type": "display_data"
    }
   ],
   "source": [
    "\n",
    "img_df = df.query('Z == 70')\n",
    "sparse_image = coo_matrix((img_df.VoxVal, (img_df.X,img_df.pY)), shape = (240,240))\n",
    "image = sparse_image.todense()\n",
    "#\n",
    "plt.imshow(image[149:175,90:146], interpolation='nearest',cmap = 'gray')\n",
    "plt.show()"
   ]
  },
  {
   "cell_type": "code",
   "execution_count": 21,
   "metadata": {},
   "outputs": [
    {
     "data": {
      "image/png": "[encoded data removed]",
      "text/plain": [
       "<Figure size 432x288 with 1 Axes>"
      ]
     },
     "metadata": {
      "needs_background": "light"
     },
     "output_type": "display_data"
    }
   ],
   "source": [
    "plt.imshow(image[149:175,90:146], interpolation='nearest')\n",
    "plt.show()"
   ]
  },
  {
   "cell_type": "code",
   "execution_count": 22,
   "metadata": {},
   "outputs": [
    {
     "name": "stdout",
     "output_type": "stream",
     "text": [
      "      Unnamed: 0    X   pY  VoxVal   Z                       NiiFileName  \\\n",
      "1396       33991  151  141  2004.0  70  BraTSReg_001_00_0000_t1ce.nii.gz   \n",
      "\n",
      "                       LandmarksFileName  istumor  \n",
      "1396  BraTSReg_001_00_0000_landmarks.csv        1  \n"
     ]
    },
    {
     "data": {
      "text/plain": [
       "<bound method NDFrame.describe of       Unnamed: 0    X   pY  VoxVal   Z                       NiiFileName  \\\n",
       "646        29682  162  123   791.0  70  BraTSReg_001_00_0000_t1ce.nii.gz   \n",
       "647        29684  164  123   858.0  70  BraTSReg_001_00_0000_t1ce.nii.gz   \n",
       "648        29681  161  123  1106.0  70  BraTSReg_001_00_0000_t1ce.nii.gz   \n",
       "649        29685  165  123   860.0  70  BraTSReg_001_00_0000_t1ce.nii.gz   \n",
       "650        29680  160  123   881.0  70  BraTSReg_001_00_0000_t1ce.nii.gz   \n",
       "...          ...  ...  ...     ...  ..                               ...   \n",
       "1332       23207  167   96   379.0  70  BraTSReg_001_00_0000_t1ce.nii.gz   \n",
       "1338       24167  167  100   903.0  70  BraTSReg_001_00_0000_t1ce.nii.gz   \n",
       "1344       22967  167   95    41.0  70  BraTSReg_001_00_0000_t1ce.nii.gz   \n",
       "1350       24407  167  101   549.0  70  BraTSReg_001_00_0000_t1ce.nii.gz   \n",
       "1396       33991  151  141  2004.0  70  BraTSReg_001_00_0000_t1ce.nii.gz   \n",
       "\n",
       "                       LandmarksFileName  istumor  \n",
       "646   BraTSReg_001_00_0000_landmarks.csv        0  \n",
       "647   BraTSReg_001_00_0000_landmarks.csv        0  \n",
       "648   BraTSReg_001_00_0000_landmarks.csv        0  \n",
       "649   BraTSReg_001_00_0000_landmarks.csv        0  \n",
       "650   BraTSReg_001_00_0000_landmarks.csv        0  \n",
       "...                                  ...      ...  \n",
       "1332  BraTSReg_001_00_0000_landmarks.csv        0  \n",
       "1338  BraTSReg_001_00_0000_landmarks.csv        0  \n",
       "1344  BraTSReg_001_00_0000_landmarks.csv        0  \n",
       "1350  BraTSReg_001_00_0000_landmarks.csv        0  \n",
       "1396  BraTSReg_001_00_0000_landmarks.csv        1  \n",
       "\n",
       "[72 rows x 8 columns]>"
      ]
     },
     "execution_count": 22,
     "metadata": {},
     "output_type": "execute_result"
    }
   ],
   "source": [
    "\n",
    "df1 = pd.read_csv('C:/Drive/Dissertation/OneDrive_1_23-06-2022/BraTSReg_gray_matter_csv/BraTSReg_001_00_0000_t1ce.nii.gz_gray_matter.csv')\n",
    "istumor_df1 = df1.query('istumor == 1')\n",
    "print(istumor_df1.query('Z == 70'))\n",
    "df1.query('Z == 70').describe"
   ]
  },
  {
   "cell_type": "code",
   "execution_count": 23,
   "metadata": {},
   "outputs": [
    {
     "data": {
      "image/png": "[encoded data removed]",
      "text/plain": [
       "<Figure size 432x288 with 1 Axes>"
      ]
     },
     "metadata": {
      "needs_background": "light"
     },
     "output_type": "display_data"
    }
   ],
   "source": [
    "img_df = df1.query('Z == 70')\n",
    "sparse_image = coo_matrix((img_df.VoxVal, (img_df.X,img_df.pY)), shape = (240,240))\n",
    "image = sparse_image.todense()\n",
    "#\n",
    "plt.imshow(image[149:175,90:146], interpolation='nearest',cmap = 'gray')\n",
    "plt.show()"
   ]
  },
  {
   "cell_type": "code",
   "execution_count": 24,
   "metadata": {},
   "outputs": [
    {
     "data": {
      "image/png": "[encoded data removed]",
      "text/plain": [
       "<Figure size 432x288 with 1 Axes>"
      ]
     },
     "metadata": {
      "needs_background": "light"
     },
     "output_type": "display_data"
    }
   ],
   "source": [
    "plt.imshow(image[149:175,90:146], interpolation='nearest')\n",
    "plt.show()"
   ]
  },
  {
   "cell_type": "code",
   "execution_count": 27,
   "metadata": {},
   "outputs": [
    {
     "data": {
      "image/png": "[encoded data removed]",
      "text/plain": [
       "<Figure size 432x288 with 1 Axes>"
      ]
     },
     "metadata": {
      "needs_background": "light"
     },
     "output_type": "display_data"
    }
   ],
   "source": [
    "df2 = pd.read_csv('C:/Drive/Dissertation/OneDrive_1_23-06-2022/BraTSReg_Training_Data_v2_csv/BraTSReg_001_00_0000_t1ce_values.csv')\n",
    "img_df = df2.query('Z == 70')\n",
    "sparse_image = coo_matrix((img_df.VoxVal, (img_df.X,img_df.pY)), shape = (240,240))\n",
    "image = sparse_image.todense()\n",
    "#\n",
    "plt.imshow(image[149:175,90:146], interpolation='nearest',cmap = 'gray')\n",
    "plt.show()"
   ]
  },
  {
   "cell_type": "code",
   "execution_count": 28,
   "metadata": {},
   "outputs": [
    {
     "data": {
      "image/png": "[encoded data removed]",
      "text/plain": [
       "<Figure size 432x288 with 1 Axes>"
      ]
     },
     "metadata": {
      "needs_background": "light"
     },
     "output_type": "display_data"
    }
   ],
   "source": [
    "plt.imshow(image[149:175,90:146], interpolation='nearest')\n",
    "plt.show()"
   ]
  },
  {
   "cell_type": "code",
   "execution_count": 29,
   "metadata": {},
   "outputs": [
    {
     "data": {
      "image/png": "[encoded data removed]",
      "text/plain": [
       "<Figure size 432x288 with 1 Axes>"
      ]
     },
     "metadata": {
      "needs_background": "light"
     },
     "output_type": "display_data"
    }
   ],
   "source": [
    "df3 = pd.read_csv('C:/Drive/Dissertation/OneDrive_1_23-06-2022/BraTSReg_Training_Data_v2_csv/BraTSReg_001_00_0000_flai_values.csv')\n",
    "img_df = df3.query('Z == 70')\n",
    "sparse_image = coo_matrix((img_df.VoxVal, (img_df.X,img_df.pY)), shape = (240,240))\n",
    "image = sparse_image.todense()\n",
    "#\n",
    "plt.imshow(image[149:175,90:146], interpolation='nearest',cmap = 'gray')\n",
    "plt.show()"
   ]
  },
  {
   "cell_type": "code",
   "execution_count": 30,
   "metadata": {},
   "outputs": [
    {
     "data": {
      "image/png": "[encoded data removed]",
      "text/plain": [
       "<Figure size 432x288 with 1 Axes>"
      ]
     },
     "metadata": {
      "needs_background": "light"
     },
     "output_type": "display_data"
    }
   ],
   "source": [
    "plt.imshow(image[149:175,90:146], interpolation='nearest')\n",
    "plt.show()"
   ]
  },
  {
   "cell_type": "code",
   "execution_count": 37,
   "metadata": {},
   "outputs": [
    {
     "name": "stdout",
     "output_type": "stream",
     "text": [
      "        Unnamed: 0    X   pY  VoxVal   Z                        NiiFileName  \\\n",
      "321579       25333  133  105   318.0  51  BraTSReg_001_00_0000_flair.nii.gz   \n",
      "361859       23161  121   96   408.0  54  BraTSReg_001_00_0000_flair.nii.gz   \n",
      "420076       24864  144  103   425.0  58  BraTSReg_001_00_0000_flair.nii.gz   \n",
      "563282       29923  163  124   536.0  67  BraTSReg_001_00_0000_flair.nii.gz   \n",
      "593367       23687  167   98   785.0  69  BraTSReg_001_00_0000_flair.nii.gz   \n",
      "614905       33991  151  141   453.0  70  BraTSReg_001_00_0000_flair.nii.gz   \n",
      "\n",
      "                         LandmarksFileName  istumor  \n",
      "321579  BraTSReg_001_00_0000_landmarks.csv        1  \n",
      "361859  BraTSReg_001_00_0000_landmarks.csv        1  \n",
      "420076  BraTSReg_001_00_0000_landmarks.csv        1  \n",
      "563282  BraTSReg_001_00_0000_landmarks.csv        1  \n",
      "593367  BraTSReg_001_00_0000_landmarks.csv        1  \n",
      "614905  BraTSReg_001_00_0000_landmarks.csv        1  \n"
     ]
    },
    {
     "ename": "KeyboardInterrupt",
     "evalue": "",
     "output_type": "error",
     "traceback": [
      "\u001b[1;31m---------------------------------------------------------------------------\u001b[0m",
      "\u001b[1;31mKeyboardInterrupt\u001b[0m                         Traceback (most recent call last)",
      "\u001b[1;32mc:\\Drive\\Dissertation\\Nii Preprocessed\\gray_matter_notebook.ipynb Cell 5\u001b[0m in \u001b[0;36m<cell line: 21>\u001b[1;34m()\u001b[0m\n\u001b[0;32m     <a href='vscode-notebook-cell:/c%3A/Drive/Dissertation/Nii%20Preprocessed/gray_matter_notebook.ipynb#ch0000005?line=20'>21</a>\u001b[0m \u001b[39mfor\u001b[39;00m xloc \u001b[39min\u001b[39;00m \u001b[39mrange\u001b[39m(\u001b[39m0\u001b[39m,\u001b[39mlen\u001b[39m(yz_df_v2)):\n\u001b[0;32m     <a href='vscode-notebook-cell:/c%3A/Drive/Dissertation/Nii%20Preprocessed/gray_matter_notebook.ipynb#ch0000005?line=21'>22</a>\u001b[0m \u001b[39m#print([yz_df_v2.X.iloc[xloc]-1])\u001b[39;00m\n\u001b[0;32m     <a href='vscode-notebook-cell:/c%3A/Drive/Dissertation/Nii%20Preprocessed/gray_matter_notebook.ipynb#ch0000005?line=22'>23</a>\u001b[0m     \u001b[39mfor\u001b[39;00m k \u001b[39min\u001b[39;00m \u001b[39mrange\u001b[39m(\u001b[39m1\u001b[39m,\u001b[39m4\u001b[39m):\n\u001b[0;32m     <a href='vscode-notebook-cell:/c%3A/Drive/Dissertation/Nii%20Preprocessed/gray_matter_notebook.ipynb#ch0000005?line=23'>24</a>\u001b[0m     \u001b[39m#print(\"the value of j is {}\".format(j))\u001b[39;00m\n\u001b[1;32m---> <a href='vscode-notebook-cell:/c%3A/Drive/Dissertation/Nii%20Preprocessed/gray_matter_notebook.ipynb#ch0000005?line=24'>25</a>\u001b[0m         xyz_n_df \u001b[39m=\u001b[39m df[(df[\u001b[39m'\u001b[39;49m\u001b[39mX\u001b[39;49m\u001b[39m'\u001b[39;49m]\u001b[39m.\u001b[39;49misin([yz_df_v2\u001b[39m.\u001b[39;49mX\u001b[39m.\u001b[39;49miloc[xloc]\u001b[39m-\u001b[39;49mk])) \u001b[39m&\u001b[39;49m (df[\u001b[39m'\u001b[39;49m\u001b[39mpY\u001b[39;49m\u001b[39m'\u001b[39;49m]\u001b[39m.\u001b[39;49misin([yz_df_v2\u001b[39m.\u001b[39;49mpY\u001b[39m.\u001b[39;49miloc[xloc]])) \u001b[39m&\u001b[39m (df[\u001b[39m'\u001b[39m\u001b[39mZ\u001b[39m\u001b[39m'\u001b[39m]\u001b[39m.\u001b[39misin([yz_df_v2\u001b[39m.\u001b[39mZ\u001b[39m.\u001b[39miloc[xloc]]))]\n\u001b[0;32m     <a href='vscode-notebook-cell:/c%3A/Drive/Dissertation/Nii%20Preprocessed/gray_matter_notebook.ipynb#ch0000005?line=25'>26</a>\u001b[0m         \u001b[39m#print(xyz_n_df)\u001b[39;00m\n\u001b[0;32m     <a href='vscode-notebook-cell:/c%3A/Drive/Dissertation/Nii%20Preprocessed/gray_matter_notebook.ipynb#ch0000005?line=26'>27</a>\u001b[0m         xyz_p_df \u001b[39m=\u001b[39m df[(df[\u001b[39m'\u001b[39m\u001b[39mX\u001b[39m\u001b[39m'\u001b[39m]\u001b[39m.\u001b[39misin([yz_df_v2\u001b[39m.\u001b[39mX\u001b[39m.\u001b[39miloc[xloc]\u001b[39m+\u001b[39mk])) \u001b[39m&\u001b[39m (df[\u001b[39m'\u001b[39m\u001b[39mpY\u001b[39m\u001b[39m'\u001b[39m]\u001b[39m.\u001b[39misin([yz_df_v2\u001b[39m.\u001b[39mpY\u001b[39m.\u001b[39miloc[xloc]])) \u001b[39m&\u001b[39m (df[\u001b[39m'\u001b[39m\u001b[39mZ\u001b[39m\u001b[39m'\u001b[39m]\u001b[39m.\u001b[39misin([yz_df_v2\u001b[39m.\u001b[39mZ\u001b[39m.\u001b[39miloc[xloc]]))]\n",
      "File \u001b[1;32mc:\\Users\\Raveendra.Pasumarthi\\Anaconda3\\lib\\site-packages\\pandas\\core\\ops\\common.py:70\u001b[0m, in \u001b[0;36m_unpack_zerodim_and_defer.<locals>.new_method\u001b[1;34m(self, other)\u001b[0m\n\u001b[0;32m     66\u001b[0m             \u001b[39mreturn\u001b[39;00m \u001b[39mNotImplemented\u001b[39m\n\u001b[0;32m     68\u001b[0m other \u001b[39m=\u001b[39m item_from_zerodim(other)\n\u001b[1;32m---> 70\u001b[0m \u001b[39mreturn\u001b[39;00m method(\u001b[39mself\u001b[39;49m, other)\n",
      "File \u001b[1;32mc:\\Users\\Raveendra.Pasumarthi\\Anaconda3\\lib\\site-packages\\pandas\\core\\arraylike.py:70\u001b[0m, in \u001b[0;36mOpsMixin.__and__\u001b[1;34m(self, other)\u001b[0m\n\u001b[0;32m     68\u001b[0m \u001b[39m@unpack_zerodim_and_defer\u001b[39m(\u001b[39m\"\u001b[39m\u001b[39m__and__\u001b[39m\u001b[39m\"\u001b[39m)\n\u001b[0;32m     69\u001b[0m \u001b[39mdef\u001b[39;00m \u001b[39m__and__\u001b[39m(\u001b[39mself\u001b[39m, other):\n\u001b[1;32m---> 70\u001b[0m     \u001b[39mreturn\u001b[39;00m \u001b[39mself\u001b[39;49m\u001b[39m.\u001b[39;49m_logical_method(other, operator\u001b[39m.\u001b[39;49mand_)\n",
      "File \u001b[1;32mc:\\Users\\Raveendra.Pasumarthi\\Anaconda3\\lib\\site-packages\\pandas\\core\\series.py:5634\u001b[0m, in \u001b[0;36mSeries._logical_method\u001b[1;34m(self, other, op)\u001b[0m\n\u001b[0;32m   5631\u001b[0m lvalues \u001b[39m=\u001b[39m \u001b[39mself\u001b[39m\u001b[39m.\u001b[39m_values\n\u001b[0;32m   5632\u001b[0m rvalues \u001b[39m=\u001b[39m extract_array(other, extract_numpy\u001b[39m=\u001b[39m\u001b[39mTrue\u001b[39;00m, extract_range\u001b[39m=\u001b[39m\u001b[39mTrue\u001b[39;00m)\n\u001b[1;32m-> 5634\u001b[0m res_values \u001b[39m=\u001b[39m ops\u001b[39m.\u001b[39;49mlogical_op(lvalues, rvalues, op)\n\u001b[0;32m   5635\u001b[0m \u001b[39mreturn\u001b[39;00m \u001b[39mself\u001b[39m\u001b[39m.\u001b[39m_construct_result(res_values, name\u001b[39m=\u001b[39mres_name)\n",
      "File \u001b[1;32mc:\\Users\\Raveendra.Pasumarthi\\Anaconda3\\lib\\site-packages\\pandas\\core\\ops\\array_ops.py:391\u001b[0m, in \u001b[0;36mlogical_op\u001b[1;34m(left, right, op)\u001b[0m\n\u001b[0;32m    387\u001b[0m \u001b[39m# For int vs int `^`, `|`, `&` are bitwise operators and return\u001b[39;00m\n\u001b[0;32m    388\u001b[0m \u001b[39m#   integer dtypes.  Otherwise these are boolean ops\u001b[39;00m\n\u001b[0;32m    389\u001b[0m filler \u001b[39m=\u001b[39m fill_int \u001b[39mif\u001b[39;00m is_self_int_dtype \u001b[39mand\u001b[39;00m is_other_int_dtype \u001b[39melse\u001b[39;00m fill_bool\n\u001b[1;32m--> 391\u001b[0m res_values \u001b[39m=\u001b[39m na_logical_op(lvalues, rvalues, op)\n\u001b[0;32m    392\u001b[0m \u001b[39m# error: Cannot call function of unknown type\u001b[39;00m\n\u001b[0;32m    393\u001b[0m res_values \u001b[39m=\u001b[39m filler(res_values)  \u001b[39m# type: ignore[operator]\u001b[39;00m\n",
      "File \u001b[1;32mc:\\Users\\Raveendra.Pasumarthi\\Anaconda3\\lib\\site-packages\\pandas\\core\\ops\\array_ops.py:301\u001b[0m, in \u001b[0;36mna_logical_op\u001b[1;34m(x, y, op)\u001b[0m\n\u001b[0;32m    291\u001b[0m \u001b[39mdef\u001b[39;00m \u001b[39mna_logical_op\u001b[39m(x: np\u001b[39m.\u001b[39mndarray, y, op):\n\u001b[0;32m    292\u001b[0m     \u001b[39mtry\u001b[39;00m:\n\u001b[0;32m    293\u001b[0m         \u001b[39m# For exposition, write:\u001b[39;00m\n\u001b[0;32m    294\u001b[0m         \u001b[39m#  yarr = isinstance(y, np.ndarray)\u001b[39;00m\n\u001b[1;32m   (...)\u001b[0m\n\u001b[0;32m    299\u001b[0m         \u001b[39m# Then Cases where this goes through without raising include:\u001b[39;00m\n\u001b[0;32m    300\u001b[0m         \u001b[39m#  (xint or xbool) and (yint or bool)\u001b[39;00m\n\u001b[1;32m--> 301\u001b[0m         result \u001b[39m=\u001b[39m op(x, y)\n\u001b[0;32m    302\u001b[0m     \u001b[39mexcept\u001b[39;00m \u001b[39mTypeError\u001b[39;00m:\n\u001b[0;32m    303\u001b[0m         \u001b[39mif\u001b[39;00m \u001b[39misinstance\u001b[39m(y, np\u001b[39m.\u001b[39mndarray):\n\u001b[0;32m    304\u001b[0m             \u001b[39m# bool-bool dtype operations should be OK, should not get here\u001b[39;00m\n",
      "\u001b[1;31mKeyboardInterrupt\u001b[0m: "
     ]
    }
   ],
   "source": [
    "df = pd.read_csv('C:/Drive/Dissertation/OneDrive_1_23-06-2022/BraTSReg_Training_Data_v2_csv/BraTSReg_001_00_0000_t1ce_values.csv')\n",
    "df1 = df.query('istumor == 1')\n",
    "print(df1)\n",
    "#xyz_df_v2 = df1\n",
    "y_df_v2 = pd.DataFrame()\n",
    "yz_df_v2 = pd.DataFrame()\n",
    "xyz_df_v2 = pd.DataFrame()\n",
    "for tloc in range(0,len(df1)):\n",
    "    for i in range(1,4):\n",
    "        y_n_df = df[(df['X'].isin([df1.X.iloc[tloc]])) & (df['pY'].isin([df1.pY.iloc[tloc]-i])) & (df['Z'].isin([df1.Z.iloc[tloc]]))]\n",
    "        y_p_df = df[(df['X'].isin([df1.X.iloc[tloc]])) & (df['pY'].isin([df1.pY.iloc[tloc]+i])) & (df['Z'].isin([df1.Z.iloc[tloc]]))]\n",
    "        #print([df1.X.iloc[0]],[df1.pY.iloc[0]-i],[df1.pY.iloc[0]+i])\n",
    "        y_df_v2 = pd.concat([y_df_v2,y_n_df,y_p_df])\n",
    "    #print(len(y_df_v2))\n",
    "    for loc in range(0,len(y_df_v2)):\n",
    "        for j in range(1,4):\n",
    "            #print(\"the value of j is {}\".format(j))\n",
    "            yz_n_df = df[(df['X'].isin([y_df_v2.X.iloc[loc]])) & (df['pY'].isin([y_df_v2.pY.iloc[loc]])) & (df['Z'].isin([y_df_v2.Z.iloc[loc]-j]))]\n",
    "            yz_p_df = df[(df['X'].isin([y_df_v2.X.iloc[loc]])) & (df['pY'].isin([y_df_v2.pY.iloc[loc]])) & (df['Z'].isin([y_df_v2.Z.iloc[loc]+j]))]       \n",
    "            yz_df_v2 = pd.concat([yz_df_v2,yz_n_df,yz_p_df])\n",
    "for xloc in range(0,len(yz_df_v2)):\n",
    "#print([yz_df_v2.X.iloc[xloc]-1])\n",
    "    for k in range(1,4):\n",
    "    #print(\"the value of j is {}\".format(j))\n",
    "        xyz_n_df = df[(df['X'].isin([yz_df_v2.X.iloc[xloc]-k])) & (df['pY'].isin([yz_df_v2.pY.iloc[xloc]])) & (df['Z'].isin([yz_df_v2.Z.iloc[xloc]]))]\n",
    "        #print(xyz_n_df)\n",
    "        xyz_p_df = df[(df['X'].isin([yz_df_v2.X.iloc[xloc]+k])) & (df['pY'].isin([yz_df_v2.pY.iloc[xloc]])) & (df['Z'].isin([yz_df_v2.Z.iloc[xloc]]))]\n",
    "        #print(xyz_p_df)\n",
    "        xyz_df_v2 = pd.concat([xyz_df_v2,xyz_n_df,xyz_p_df])\n",
    "gray_df_v2 = pd.concat([xyz_df_v2,yz_df_v2,df1])\n",
    "gray_df_v2.drop_duplicates().to_csv('C:/Drive/Dissertation/OneDrive_1_23-06-2022/BraTSReg_gray_matter_csv/'+ gray_df_v2.NiiFileName.iloc[0] + '_gray_matter_001.csv', index=False)    #print(len(yz_df_v2))"
   ]
  }
 ],
 "metadata": {
  "kernelspec": {
   "display_name": "Python 3 (ipykernel)",
   "language": "python",
   "name": "python3"
  },
  "language_info": {
   "codemirror_mode": {
    "name": "ipython",
    "version": 3
   },
   "file_extension": ".py",
   "mimetype": "text/x-python",
   "name": "python",
   "nbconvert_exporter": "python",
   "pygments_lexer": "ipython3",
   "version": "3.9.7"
  },
  "vscode": {
   "interpreter": {
    "hash": "079e6fc4cc6f2494554dc155f32b6026769bbf640a577e3529c4e6b916a8d5cd"
   }
  }
 },
 "nbformat": 4,
 "nbformat_minor": 2
}
